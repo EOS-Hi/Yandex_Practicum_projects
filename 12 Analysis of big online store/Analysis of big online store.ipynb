{
 "cells": [
  {
   "cell_type": "markdown",
   "metadata": {},
   "source": [
    "# Анализ крупного интернет-магазина"
   ]
  },
  {
   "cell_type": "markdown",
   "metadata": {},
   "source": [
    "Целью данного исследования является анализ крупного интернет-магазина. \n",
    "\n",
    "Был подготовлен список гипотез для увеличения выручки, первой целью исследования является их приоритизация.\n",
    "Вторая цель - проведение A/B-теста и анализ результатов. \n",
    "\n",
    "Исследование состоит из двух частей:\n",
    "* Часть 1. Приоритизация гипотез\n",
    "* Часть 2. Анализ A/B-теста\n",
    "\n",
    "Для каждой части анализа имеются свои отдельные датафреймы: 1 датафрейм для первой части и 2 датафрейма для второй.\n",
    "\n",
    "Сама работа состоит из четырёх глав:\n",
    "* В Главе 1 будет проведена подготовка к анализу, а именно: осуществлена загрузка библиотек, данных, проведён первичный анализ каждого из трёх датафреймов и первичная обработка данных.\n",
    "* В Главе 2 будет выполнена приоритизация гипотез.\n",
    "* В Главе 3 будет проведён анализ A/B-теста.\n",
    "* В Главе 4 будут ещё раз кратко представлены результаты исследования и подведены итоги."
   ]
  },
  {
   "cell_type": "markdown",
   "metadata": {},
   "source": [
    "## Подготовка к анализу"
   ]
  },
  {
   "cell_type": "markdown",
   "metadata": {},
   "source": [
    "Перед началом исследования  \n",
    "\n",
    "Загрузка библиотек и выбор формата:"
   ]
  },
  {
   "cell_type": "code",
   "execution_count": 1,
   "metadata": {},
   "outputs": [],
   "source": [
    "import pandas as pd\n",
    "import matplotlib.pyplot as plt\n",
    "import seaborn as sns\n",
    "import numpy as np\n",
    "from numpy import random\n",
    "from math import sqrt\n",
    "import math \n",
    "from scipy import stats as st\n",
    "from scipy.stats import binom, norm\n",
    "import scipy.stats as stats\n",
    "from datetime import datetime as dt\n",
    "import warnings\n",
    "warnings.filterwarnings(\"ignore\")\n",
    "pd.set_option('display.max_colwidth', None)\n",
    "pd.options.display.float_format = '{:.2f}'.format"
   ]
  },
  {
   "cell_type": "markdown",
   "metadata": {},
   "source": [
    "Загрузка данных (всего 3 датасета - hypothesis, orders и visitors):"
   ]
  },
  {
   "cell_type": "markdown",
   "metadata": {},
   "source": [
    "Создание универсальной формулы для первичного анализа:"
   ]
  },
  {
   "cell_type": "code",
   "execution_count": 3,
   "metadata": {},
   "outputs": [],
   "source": [
    "def first_analysis(data):\n",
    "    print(data.shape)\n",
    "    data.info()\n",
    "    print(data.describe())\n",
    "    display(data.head())\n",
    "    print(data.duplicated().sum())"
   ]
  },
  {
   "cell_type": "markdown",
   "metadata": {},
   "source": [
    "**Первый датафрейм:**"
   ]
  },
  {
   "cell_type": "code",
   "execution_count": 4,
   "metadata": {},
   "outputs": [
    {
     "name": "stdout",
     "output_type": "stream",
     "text": [
      "(9, 5)\n",
      "<class 'pandas.core.frame.DataFrame'>\n",
      "RangeIndex: 9 entries, 0 to 8\n",
      "Data columns (total 5 columns):\n",
      " #   Column      Non-Null Count  Dtype \n",
      "---  ------      --------------  ----- \n",
      " 0   Hypothesis  9 non-null      object\n",
      " 1   Reach       9 non-null      int64 \n",
      " 2   Impact      9 non-null      int64 \n",
      " 3   Confidence  9 non-null      int64 \n",
      " 4   Efforts     9 non-null      int64 \n",
      "dtypes: int64(4), object(1)\n",
      "memory usage: 488.0+ bytes\n",
      "       Reach  Impact  Confidence  Efforts\n",
      "count   9.00    9.00        9.00     9.00\n",
      "mean    4.78    4.78        5.56     4.89\n",
      "std     3.15    3.19        3.05     2.80\n",
      "min     1.00    1.00        1.00     1.00\n",
      "25%     3.00    3.00        3.00     3.00\n",
      "50%     3.00    3.00        7.00     5.00\n",
      "75%     8.00    7.00        8.00     6.00\n",
      "max    10.00   10.00        9.00    10.00\n"
     ]
    },
    {
     "data": {
      "text/html": [
       "<div>\n",
       "<style scoped>\n",
       "    .dataframe tbody tr th:only-of-type {\n",
       "        vertical-align: middle;\n",
       "    }\n",
       "\n",
       "    .dataframe tbody tr th {\n",
       "        vertical-align: top;\n",
       "    }\n",
       "\n",
       "    .dataframe thead th {\n",
       "        text-align: right;\n",
       "    }\n",
       "</style>\n",
       "<table border=\"1\" class=\"dataframe\">\n",
       "  <thead>\n",
       "    <tr style=\"text-align: right;\">\n",
       "      <th></th>\n",
       "      <th>Hypothesis</th>\n",
       "      <th>Reach</th>\n",
       "      <th>Impact</th>\n",
       "      <th>Confidence</th>\n",
       "      <th>Efforts</th>\n",
       "    </tr>\n",
       "  </thead>\n",
       "  <tbody>\n",
       "    <tr>\n",
       "      <th>0</th>\n",
       "      <td>Добавить два новых канала привлечения трафика, что позволит привлекать на 30% больше пользователей</td>\n",
       "      <td>3</td>\n",
       "      <td>10</td>\n",
       "      <td>8</td>\n",
       "      <td>6</td>\n",
       "    </tr>\n",
       "    <tr>\n",
       "      <th>1</th>\n",
       "      <td>Запустить собственную службу доставки, что сократит срок доставки заказов</td>\n",
       "      <td>2</td>\n",
       "      <td>5</td>\n",
       "      <td>4</td>\n",
       "      <td>10</td>\n",
       "    </tr>\n",
       "    <tr>\n",
       "      <th>2</th>\n",
       "      <td>Добавить блоки рекомендаций товаров на сайт интернет магазина, чтобы повысить конверсию и средний чек заказа</td>\n",
       "      <td>8</td>\n",
       "      <td>3</td>\n",
       "      <td>7</td>\n",
       "      <td>3</td>\n",
       "    </tr>\n",
       "    <tr>\n",
       "      <th>3</th>\n",
       "      <td>Изменить структура категорий, что увеличит конверсию, т.к. пользователи быстрее найдут нужный товар</td>\n",
       "      <td>8</td>\n",
       "      <td>3</td>\n",
       "      <td>3</td>\n",
       "      <td>8</td>\n",
       "    </tr>\n",
       "    <tr>\n",
       "      <th>4</th>\n",
       "      <td>Изменить цвет фона главной страницы, чтобы увеличить вовлеченность пользователей</td>\n",
       "      <td>3</td>\n",
       "      <td>1</td>\n",
       "      <td>1</td>\n",
       "      <td>1</td>\n",
       "    </tr>\n",
       "  </tbody>\n",
       "</table>\n",
       "</div>"
      ],
      "text/plain": [
       "                                                                                                     Hypothesis  \\\n",
       "0            Добавить два новых канала привлечения трафика, что позволит привлекать на 30% больше пользователей   \n",
       "1                                     Запустить собственную службу доставки, что сократит срок доставки заказов   \n",
       "2  Добавить блоки рекомендаций товаров на сайт интернет магазина, чтобы повысить конверсию и средний чек заказа   \n",
       "3           Изменить структура категорий, что увеличит конверсию, т.к. пользователи быстрее найдут нужный товар   \n",
       "4                              Изменить цвет фона главной страницы, чтобы увеличить вовлеченность пользователей   \n",
       "\n",
       "   Reach  Impact  Confidence  Efforts  \n",
       "0      3      10           8        6  \n",
       "1      2       5           4       10  \n",
       "2      8       3           7        3  \n",
       "3      8       3           3        8  \n",
       "4      3       1           1        1  "
      ]
     },
     "metadata": {},
     "output_type": "display_data"
    },
    {
     "name": "stdout",
     "output_type": "stream",
     "text": [
      "0\n"
     ]
    }
   ],
   "source": [
    "first_analysis(hypothesis)"
   ]
  },
  {
   "cell_type": "markdown",
   "metadata": {},
   "source": [
    "Датафрейм содержит 9 гипотез по увеличению выручки интернет-магазина с указанными параметрами Reach, Impact, Confidence, Efforts. В нём 9 строк и 5 столбцов. \n",
    "\n",
    "Названия колонок:\n",
    "* Hypothesis — краткое описание гипотезы;\n",
    "* Reach — охват пользователей по 10-балльной шкале;\n",
    "* Impact — влияние на пользователей по 10-балльной шкале;\n",
    "* Confidence — уверенность в гипотезе по 10-балльной шкале;\n",
    "* Efforts — затраты ресурсов на проверку гипотезы по 10-балльной шкале. Чем больше значение Efforts, тем дороже проверка гипотезы.\n",
    "\n",
    "Пропусков нет, дубликатов нет. Названия столбцов следует переписать в соответствии со \"змеиным стилем\". Типы столбцов заданы правильно."
   ]
  },
  {
   "cell_type": "code",
   "execution_count": 5,
   "metadata": {},
   "outputs": [
    {
     "data": {
      "text/html": [
       "<div>\n",
       "<style scoped>\n",
       "    .dataframe tbody tr th:only-of-type {\n",
       "        vertical-align: middle;\n",
       "    }\n",
       "\n",
       "    .dataframe tbody tr th {\n",
       "        vertical-align: top;\n",
       "    }\n",
       "\n",
       "    .dataframe thead th {\n",
       "        text-align: right;\n",
       "    }\n",
       "</style>\n",
       "<table border=\"1\" class=\"dataframe\">\n",
       "  <thead>\n",
       "    <tr style=\"text-align: right;\">\n",
       "      <th></th>\n",
       "      <th>hypothesis</th>\n",
       "      <th>reach</th>\n",
       "      <th>impact</th>\n",
       "      <th>confidence</th>\n",
       "      <th>efforts</th>\n",
       "    </tr>\n",
       "  </thead>\n",
       "  <tbody>\n",
       "    <tr>\n",
       "      <th>0</th>\n",
       "      <td>Добавить два новых канала привлечения трафика, что позволит привлекать на 30% больше пользователей</td>\n",
       "      <td>3</td>\n",
       "      <td>10</td>\n",
       "      <td>8</td>\n",
       "      <td>6</td>\n",
       "    </tr>\n",
       "    <tr>\n",
       "      <th>1</th>\n",
       "      <td>Запустить собственную службу доставки, что сократит срок доставки заказов</td>\n",
       "      <td>2</td>\n",
       "      <td>5</td>\n",
       "      <td>4</td>\n",
       "      <td>10</td>\n",
       "    </tr>\n",
       "    <tr>\n",
       "      <th>2</th>\n",
       "      <td>Добавить блоки рекомендаций товаров на сайт интернет магазина, чтобы повысить конверсию и средний чек заказа</td>\n",
       "      <td>8</td>\n",
       "      <td>3</td>\n",
       "      <td>7</td>\n",
       "      <td>3</td>\n",
       "    </tr>\n",
       "    <tr>\n",
       "      <th>3</th>\n",
       "      <td>Изменить структура категорий, что увеличит конверсию, т.к. пользователи быстрее найдут нужный товар</td>\n",
       "      <td>8</td>\n",
       "      <td>3</td>\n",
       "      <td>3</td>\n",
       "      <td>8</td>\n",
       "    </tr>\n",
       "    <tr>\n",
       "      <th>4</th>\n",
       "      <td>Изменить цвет фона главной страницы, чтобы увеличить вовлеченность пользователей</td>\n",
       "      <td>3</td>\n",
       "      <td>1</td>\n",
       "      <td>1</td>\n",
       "      <td>1</td>\n",
       "    </tr>\n",
       "  </tbody>\n",
       "</table>\n",
       "</div>"
      ],
      "text/plain": [
       "                                                                                                     hypothesis  \\\n",
       "0            Добавить два новых канала привлечения трафика, что позволит привлекать на 30% больше пользователей   \n",
       "1                                     Запустить собственную службу доставки, что сократит срок доставки заказов   \n",
       "2  Добавить блоки рекомендаций товаров на сайт интернет магазина, чтобы повысить конверсию и средний чек заказа   \n",
       "3           Изменить структура категорий, что увеличит конверсию, т.к. пользователи быстрее найдут нужный товар   \n",
       "4                              Изменить цвет фона главной страницы, чтобы увеличить вовлеченность пользователей   \n",
       "\n",
       "   reach  impact  confidence  efforts  \n",
       "0      3      10           8        6  \n",
       "1      2       5           4       10  \n",
       "2      8       3           7        3  \n",
       "3      8       3           3        8  \n",
       "4      3       1           1        1  "
      ]
     },
     "execution_count": 5,
     "metadata": {},
     "output_type": "execute_result"
    }
   ],
   "source": [
    "hypothesis.columns = ['hypothesis', 'reach', 'impact', 'confidence', 'efforts']\n",
    "hypothesis.head()"
   ]
  },
  {
   "cell_type": "markdown",
   "metadata": {},
   "source": [
    "Колонки успешно переименованы.\n",
    "\n",
    "**Второй датафрейм:**"
   ]
  },
  {
   "cell_type": "code",
   "execution_count": 6,
   "metadata": {},
   "outputs": [
    {
     "name": "stdout",
     "output_type": "stream",
     "text": [
      "(1197, 5)\n",
      "<class 'pandas.core.frame.DataFrame'>\n",
      "RangeIndex: 1197 entries, 0 to 1196\n",
      "Data columns (total 5 columns):\n",
      " #   Column         Non-Null Count  Dtype \n",
      "---  ------         --------------  ----- \n",
      " 0   transactionId  1197 non-null   int64 \n",
      " 1   visitorId      1197 non-null   int64 \n",
      " 2   date           1197 non-null   object\n",
      " 3   revenue        1197 non-null   int64 \n",
      " 4   group          1197 non-null   object\n",
      "dtypes: int64(3), object(2)\n",
      "memory usage: 46.9+ KB\n",
      "       transactionId     visitorId    revenue\n",
      "count        1197.00       1197.00    1197.00\n",
      "mean   2155621385.53 2165960143.10    8348.01\n",
      "std    1229084904.76 1236014192.15   39191.13\n",
      "min       1062393.00    5114589.00      50.00\n",
      "25%    1166775572.00 1111826046.00    1220.00\n",
      "50%    2145193898.00 2217984702.00    2978.00\n",
      "75%    3237740112.00 3177606451.00    8290.00\n",
      "max    4293855558.00 4283872382.00 1294500.00\n"
     ]
    },
    {
     "data": {
      "text/html": [
       "<div>\n",
       "<style scoped>\n",
       "    .dataframe tbody tr th:only-of-type {\n",
       "        vertical-align: middle;\n",
       "    }\n",
       "\n",
       "    .dataframe tbody tr th {\n",
       "        vertical-align: top;\n",
       "    }\n",
       "\n",
       "    .dataframe thead th {\n",
       "        text-align: right;\n",
       "    }\n",
       "</style>\n",
       "<table border=\"1\" class=\"dataframe\">\n",
       "  <thead>\n",
       "    <tr style=\"text-align: right;\">\n",
       "      <th></th>\n",
       "      <th>transactionId</th>\n",
       "      <th>visitorId</th>\n",
       "      <th>date</th>\n",
       "      <th>revenue</th>\n",
       "      <th>group</th>\n",
       "    </tr>\n",
       "  </thead>\n",
       "  <tbody>\n",
       "    <tr>\n",
       "      <th>0</th>\n",
       "      <td>3667963787</td>\n",
       "      <td>3312258926</td>\n",
       "      <td>2019-08-15</td>\n",
       "      <td>1650</td>\n",
       "      <td>B</td>\n",
       "    </tr>\n",
       "    <tr>\n",
       "      <th>1</th>\n",
       "      <td>2804400009</td>\n",
       "      <td>3642806036</td>\n",
       "      <td>2019-08-15</td>\n",
       "      <td>730</td>\n",
       "      <td>B</td>\n",
       "    </tr>\n",
       "    <tr>\n",
       "      <th>2</th>\n",
       "      <td>2961555356</td>\n",
       "      <td>4069496402</td>\n",
       "      <td>2019-08-15</td>\n",
       "      <td>400</td>\n",
       "      <td>A</td>\n",
       "    </tr>\n",
       "    <tr>\n",
       "      <th>3</th>\n",
       "      <td>3797467345</td>\n",
       "      <td>1196621759</td>\n",
       "      <td>2019-08-15</td>\n",
       "      <td>9759</td>\n",
       "      <td>B</td>\n",
       "    </tr>\n",
       "    <tr>\n",
       "      <th>4</th>\n",
       "      <td>2282983706</td>\n",
       "      <td>2322279887</td>\n",
       "      <td>2019-08-15</td>\n",
       "      <td>2308</td>\n",
       "      <td>B</td>\n",
       "    </tr>\n",
       "  </tbody>\n",
       "</table>\n",
       "</div>"
      ],
      "text/plain": [
       "   transactionId   visitorId        date  revenue group\n",
       "0     3667963787  3312258926  2019-08-15     1650     B\n",
       "1     2804400009  3642806036  2019-08-15      730     B\n",
       "2     2961555356  4069496402  2019-08-15      400     A\n",
       "3     3797467345  1196621759  2019-08-15     9759     B\n",
       "4     2282983706  2322279887  2019-08-15     2308     B"
      ]
     },
     "metadata": {},
     "output_type": "display_data"
    },
    {
     "name": "stdout",
     "output_type": "stream",
     "text": [
      "0\n"
     ]
    }
   ],
   "source": [
    "first_analysis(orders)"
   ]
  },
  {
   "cell_type": "markdown",
   "metadata": {},
   "source": [
    "В датафрейме с информацией о заказах 5 столбцов и 1197 строк. Названия столбцов:\n",
    "\n",
    "* transactionId — идентификатор заказа;\n",
    "* visitorId — идентификатор пользователя, совершившего заказ;\n",
    "* date — дата, когда был совершён заказ;\n",
    "* revenue — выручка заказа;\n",
    "* group — группа A/B-теста, в которую попал заказ.\n",
    "\n",
    "Названия столбцов следует переписать в соответствии со \"змеиным стилем\", пропусков нет, дубликатов нет. Необходимо задать правильный тип столбца date."
   ]
  },
  {
   "cell_type": "code",
   "execution_count": 7,
   "metadata": {},
   "outputs": [
    {
     "name": "stdout",
     "output_type": "stream",
     "text": [
      "<class 'pandas.core.frame.DataFrame'>\n",
      "RangeIndex: 1197 entries, 0 to 1196\n",
      "Data columns (total 5 columns):\n",
      " #   Column          Non-Null Count  Dtype         \n",
      "---  ------          --------------  -----         \n",
      " 0   transaction_id  1197 non-null   int64         \n",
      " 1   visitor_id      1197 non-null   int64         \n",
      " 2   date            1197 non-null   datetime64[ns]\n",
      " 3   revenue         1197 non-null   int64         \n",
      " 4   group           1197 non-null   object        \n",
      "dtypes: datetime64[ns](1), int64(3), object(1)\n",
      "memory usage: 46.9+ KB\n"
     ]
    }
   ],
   "source": [
    "orders.columns = ['transaction_id', 'visitor_id', 'date', 'revenue', 'group']\n",
    "orders['date']= pd.to_datetime(orders['date'], format='%Y-%m-%d')\n",
    "orders.info()"
   ]
  },
  {
   "cell_type": "code",
   "execution_count": 8,
   "metadata": {},
   "outputs": [
    {
     "data": {
      "text/plain": [
       "[numpy.datetime64('2019-08-01T00:00:00.000000000'),\n",
       " numpy.datetime64('2019-08-02T00:00:00.000000000'),\n",
       " numpy.datetime64('2019-08-03T00:00:00.000000000'),\n",
       " numpy.datetime64('2019-08-04T00:00:00.000000000'),\n",
       " numpy.datetime64('2019-08-05T00:00:00.000000000'),\n",
       " numpy.datetime64('2019-08-06T00:00:00.000000000'),\n",
       " numpy.datetime64('2019-08-07T00:00:00.000000000'),\n",
       " numpy.datetime64('2019-08-08T00:00:00.000000000'),\n",
       " numpy.datetime64('2019-08-09T00:00:00.000000000'),\n",
       " numpy.datetime64('2019-08-10T00:00:00.000000000'),\n",
       " numpy.datetime64('2019-08-11T00:00:00.000000000'),\n",
       " numpy.datetime64('2019-08-12T00:00:00.000000000'),\n",
       " numpy.datetime64('2019-08-13T00:00:00.000000000'),\n",
       " numpy.datetime64('2019-08-14T00:00:00.000000000'),\n",
       " numpy.datetime64('2019-08-15T00:00:00.000000000'),\n",
       " numpy.datetime64('2019-08-16T00:00:00.000000000'),\n",
       " numpy.datetime64('2019-08-17T00:00:00.000000000'),\n",
       " numpy.datetime64('2019-08-18T00:00:00.000000000'),\n",
       " numpy.datetime64('2019-08-19T00:00:00.000000000'),\n",
       " numpy.datetime64('2019-08-20T00:00:00.000000000'),\n",
       " numpy.datetime64('2019-08-21T00:00:00.000000000'),\n",
       " numpy.datetime64('2019-08-22T00:00:00.000000000'),\n",
       " numpy.datetime64('2019-08-23T00:00:00.000000000'),\n",
       " numpy.datetime64('2019-08-24T00:00:00.000000000'),\n",
       " numpy.datetime64('2019-08-25T00:00:00.000000000'),\n",
       " numpy.datetime64('2019-08-26T00:00:00.000000000'),\n",
       " numpy.datetime64('2019-08-27T00:00:00.000000000'),\n",
       " numpy.datetime64('2019-08-28T00:00:00.000000000'),\n",
       " numpy.datetime64('2019-08-29T00:00:00.000000000'),\n",
       " numpy.datetime64('2019-08-30T00:00:00.000000000'),\n",
       " numpy.datetime64('2019-08-31T00:00:00.000000000')]"
      ]
     },
     "execution_count": 8,
     "metadata": {},
     "output_type": "execute_result"
    }
   ],
   "source": [
    "sorted(orders['date'].unique())"
   ]
  },
  {
   "cell_type": "markdown",
   "metadata": {},
   "source": [
    "Изменения успешно внесены. Датафрейм включает в себя данные за весь август 2019 года, с 01.08.2019 по 31.08.2019.\n",
    "\n",
    "**Третий датафрейм:**"
   ]
  },
  {
   "cell_type": "code",
   "execution_count": 9,
   "metadata": {},
   "outputs": [
    {
     "name": "stdout",
     "output_type": "stream",
     "text": [
      "(62, 3)\n",
      "<class 'pandas.core.frame.DataFrame'>\n",
      "RangeIndex: 62 entries, 0 to 61\n",
      "Data columns (total 3 columns):\n",
      " #   Column    Non-Null Count  Dtype \n",
      "---  ------    --------------  ----- \n",
      " 0   date      62 non-null     object\n",
      " 1   group     62 non-null     object\n",
      " 2   visitors  62 non-null     int64 \n",
      "dtypes: int64(1), object(2)\n",
      "memory usage: 1.6+ KB\n",
      "       visitors\n",
      "count     62.00\n",
      "mean     607.29\n",
      "std      114.40\n",
      "min      361.00\n",
      "25%      534.00\n",
      "50%      624.50\n",
      "75%      710.50\n",
      "max      770.00\n"
     ]
    },
    {
     "data": {
      "text/html": [
       "<div>\n",
       "<style scoped>\n",
       "    .dataframe tbody tr th:only-of-type {\n",
       "        vertical-align: middle;\n",
       "    }\n",
       "\n",
       "    .dataframe tbody tr th {\n",
       "        vertical-align: top;\n",
       "    }\n",
       "\n",
       "    .dataframe thead th {\n",
       "        text-align: right;\n",
       "    }\n",
       "</style>\n",
       "<table border=\"1\" class=\"dataframe\">\n",
       "  <thead>\n",
       "    <tr style=\"text-align: right;\">\n",
       "      <th></th>\n",
       "      <th>date</th>\n",
       "      <th>group</th>\n",
       "      <th>visitors</th>\n",
       "    </tr>\n",
       "  </thead>\n",
       "  <tbody>\n",
       "    <tr>\n",
       "      <th>0</th>\n",
       "      <td>2019-08-01</td>\n",
       "      <td>A</td>\n",
       "      <td>719</td>\n",
       "    </tr>\n",
       "    <tr>\n",
       "      <th>1</th>\n",
       "      <td>2019-08-02</td>\n",
       "      <td>A</td>\n",
       "      <td>619</td>\n",
       "    </tr>\n",
       "    <tr>\n",
       "      <th>2</th>\n",
       "      <td>2019-08-03</td>\n",
       "      <td>A</td>\n",
       "      <td>507</td>\n",
       "    </tr>\n",
       "    <tr>\n",
       "      <th>3</th>\n",
       "      <td>2019-08-04</td>\n",
       "      <td>A</td>\n",
       "      <td>717</td>\n",
       "    </tr>\n",
       "    <tr>\n",
       "      <th>4</th>\n",
       "      <td>2019-08-05</td>\n",
       "      <td>A</td>\n",
       "      <td>756</td>\n",
       "    </tr>\n",
       "  </tbody>\n",
       "</table>\n",
       "</div>"
      ],
      "text/plain": [
       "         date group  visitors\n",
       "0  2019-08-01     A       719\n",
       "1  2019-08-02     A       619\n",
       "2  2019-08-03     A       507\n",
       "3  2019-08-04     A       717\n",
       "4  2019-08-05     A       756"
      ]
     },
     "metadata": {},
     "output_type": "display_data"
    },
    {
     "name": "stdout",
     "output_type": "stream",
     "text": [
      "0\n"
     ]
    }
   ],
   "source": [
    "first_analysis(visitors)"
   ]
  },
  {
   "cell_type": "markdown",
   "metadata": {},
   "source": [
    "Датафрейм содержит информацию о пользователях. В нём 62 строки и 3 столбца. Названия столбцов:\n",
    "\n",
    "* date — дата;\n",
    "* group — группа A/B-теста;\n",
    "* visitors — количество пользователей в указанную дату в указанной группе A/B-теста\n",
    "\n",
    "Названия столбцов заданы в соответствии со \"змеиным стилем\", пропусков нет, дубликатов нет. Необходимо задать правильный типы столбца date."
   ]
  },
  {
   "cell_type": "code",
   "execution_count": 10,
   "metadata": {},
   "outputs": [
    {
     "name": "stdout",
     "output_type": "stream",
     "text": [
      "<class 'pandas.core.frame.DataFrame'>\n",
      "RangeIndex: 62 entries, 0 to 61\n",
      "Data columns (total 3 columns):\n",
      " #   Column    Non-Null Count  Dtype         \n",
      "---  ------    --------------  -----         \n",
      " 0   date      62 non-null     datetime64[ns]\n",
      " 1   group     62 non-null     object        \n",
      " 2   visitors  62 non-null     int64         \n",
      "dtypes: datetime64[ns](1), int64(1), object(1)\n",
      "memory usage: 1.6+ KB\n"
     ]
    }
   ],
   "source": [
    "visitors['date']= pd.to_datetime(visitors['date'], format='%Y-%m-%d')\n",
    "visitors.info()"
   ]
  },
  {
   "cell_type": "code",
   "execution_count": 11,
   "metadata": {},
   "outputs": [
    {
     "data": {
      "text/plain": [
       "[numpy.datetime64('2019-08-01T00:00:00.000000000'),\n",
       " numpy.datetime64('2019-08-02T00:00:00.000000000'),\n",
       " numpy.datetime64('2019-08-03T00:00:00.000000000'),\n",
       " numpy.datetime64('2019-08-04T00:00:00.000000000'),\n",
       " numpy.datetime64('2019-08-05T00:00:00.000000000'),\n",
       " numpy.datetime64('2019-08-06T00:00:00.000000000'),\n",
       " numpy.datetime64('2019-08-07T00:00:00.000000000'),\n",
       " numpy.datetime64('2019-08-08T00:00:00.000000000'),\n",
       " numpy.datetime64('2019-08-09T00:00:00.000000000'),\n",
       " numpy.datetime64('2019-08-10T00:00:00.000000000'),\n",
       " numpy.datetime64('2019-08-11T00:00:00.000000000'),\n",
       " numpy.datetime64('2019-08-12T00:00:00.000000000'),\n",
       " numpy.datetime64('2019-08-13T00:00:00.000000000'),\n",
       " numpy.datetime64('2019-08-14T00:00:00.000000000'),\n",
       " numpy.datetime64('2019-08-15T00:00:00.000000000'),\n",
       " numpy.datetime64('2019-08-16T00:00:00.000000000'),\n",
       " numpy.datetime64('2019-08-17T00:00:00.000000000'),\n",
       " numpy.datetime64('2019-08-18T00:00:00.000000000'),\n",
       " numpy.datetime64('2019-08-19T00:00:00.000000000'),\n",
       " numpy.datetime64('2019-08-20T00:00:00.000000000'),\n",
       " numpy.datetime64('2019-08-21T00:00:00.000000000'),\n",
       " numpy.datetime64('2019-08-22T00:00:00.000000000'),\n",
       " numpy.datetime64('2019-08-23T00:00:00.000000000'),\n",
       " numpy.datetime64('2019-08-24T00:00:00.000000000'),\n",
       " numpy.datetime64('2019-08-25T00:00:00.000000000'),\n",
       " numpy.datetime64('2019-08-26T00:00:00.000000000'),\n",
       " numpy.datetime64('2019-08-27T00:00:00.000000000'),\n",
       " numpy.datetime64('2019-08-28T00:00:00.000000000'),\n",
       " numpy.datetime64('2019-08-29T00:00:00.000000000'),\n",
       " numpy.datetime64('2019-08-30T00:00:00.000000000'),\n",
       " numpy.datetime64('2019-08-31T00:00:00.000000000')]"
      ]
     },
     "execution_count": 11,
     "metadata": {},
     "output_type": "execute_result"
    }
   ],
   "source": [
    "sorted(visitors['date'].unique())"
   ]
  },
  {
   "cell_type": "markdown",
   "metadata": {},
   "source": [
    "Тип столбца успешно сменён. Датафрейм visitors включает в себя данные за весь август 2019 года, с 01.08.2019 по 31.08.2019, также, как и датафрейм orders.\n",
    "\n",
    "Предобработка данных завершена.\n",
    "\n",
    "**Выводы:**\n",
    "\n",
    "Всего для работы предоставлены 3 датафрейма:\n",
    "\n",
    "* Датафрейм hypothesis, содержащий 9 гипотез по увеличению выручки интернет-магазина с указанными параметрами Reach, Impact, Confidence, Effort. Всего в нём 9 строк и 5 столбцов.\n",
    "* Датафрейм orders с информацией о заказах. Всего в датафрейме 1197 строк и 5 столбцов.\n",
    "* Датафрейм visitors, содержащий информацию о пользователях. Всего в датафрейме 62 строки и 3 столбца.\n",
    "\n",
    "Предоставленные датасеты содержат качественную информацию, на основании которой можно провести исследование. Пропусков и дубликатов обнаружено не было. Проведена следующая обработка:\n",
    "* В датафрейме hypothesis были переписаны названия столбцов в соответствии со \"змеиным стилем\".\n",
    "* В датафрейме orders были переписаны названия столбцов в соответствии со \"змеиным стилем\", а также задан правильный тип столбца date.\n",
    "* В датафрейме visitors был задан правильный тип столбца date.\n",
    "\n",
    "Датафреймы orders и visitors включает в себя данные за одинаковый период, а именно - весь август 2019 года, с 01.08.2019 по 31.08.2019, что делает возможным анализ данных обоих датасетов одновременно."
   ]
  },
  {
   "cell_type": "markdown",
   "metadata": {},
   "source": [
    "## Приоритизация гипотез"
   ]
  },
  {
   "cell_type": "markdown",
   "metadata": {},
   "source": [
    "В первой части исследования будет задействован только датафрейм hypothesis, который был изучен в прошлой главе. \n",
    "С целью приоритизации гипотез будут использованы:\n",
    "* фреймворк ICE \n",
    "* фреймворк RICE\n",
    "\n",
    "Полученные результаты будет сравнены друг с другом."
   ]
  },
  {
   "cell_type": "markdown",
   "metadata": {},
   "source": [
    "### Фреймворк ICE"
   ]
  },
  {
   "cell_type": "markdown",
   "metadata": {},
   "source": [
    "Приоритизация гипотез с применением фреймворка ICE, с добавлением колонки в новый датафрейм - двойника датафрейма hypothesis:"
   ]
  },
  {
   "cell_type": "code",
   "execution_count": 12,
   "metadata": {},
   "outputs": [
    {
     "name": "stdout",
     "output_type": "stream",
     "text": [
      "                                                                                                     hypothesis  \\\n",
      "8                                                       Запустить акцию, дающую скидку на товар в день рождения   \n",
      "0            Добавить два новых канала привлечения трафика, что позволит привлекать на 30% больше пользователей   \n",
      "7              Добавить форму подписки на все основные страницы, чтобы собрать базу клиентов для email-рассылок   \n",
      "6          Показать на главной странице баннеры с актуальными акциями и распродажами, чтобы увеличить конверсию   \n",
      "2  Добавить блоки рекомендаций товаров на сайт интернет магазина, чтобы повысить конверсию и средний чек заказа   \n",
      "1                                     Запустить собственную службу доставки, что сократит срок доставки заказов   \n",
      "5                      Добавить страницу отзывов клиентов о магазине, что позволит увеличить количество заказов   \n",
      "3           Изменить структура категорий, что увеличит конверсию, т.к. пользователи быстрее найдут нужный товар   \n",
      "4                              Изменить цвет фона главной страницы, чтобы увеличить вовлеченность пользователей   \n",
      "\n",
      "    ICE  \n",
      "8 16.20  \n",
      "0 13.33  \n",
      "7 11.20  \n",
      "6  8.00  \n",
      "2  7.00  \n",
      "1  2.00  \n",
      "5  1.33  \n",
      "3  1.12  \n",
      "4  1.00  \n"
     ]
    }
   ],
   "source": [
    "hypothesis_2 = hypothesis\n",
    "\n",
    "hypothesis_2['ICE'] = (hypothesis_2['impact'] * hypothesis_2['confidence']) / hypothesis_2['efforts']\n",
    "print(hypothesis_2[['hypothesis', 'ICE']].sort_values(by = 'ICE', ascending = False))"
   ]
  },
  {
   "cell_type": "markdown",
   "metadata": {},
   "source": [
    "ТОП-3 гипотезы в соответствии со фреймворком ICE:\n",
    "* Номер 8: \"Запустить акцию, дающую скидку на товар в день рождения\" - 16.20 \n",
    "* Номер 0: \"Добавить два новых канала привлечения трафика, что позволит привлекать на 30% больше пользователей\" - 13.33 \n",
    "* Номер 7: \"Добавить форму подписки на все основные страницы, чтобы собрать базу клиентов для email-рассылок\" - 11.20  \n",
    "\n",
    "Наименее приоритетная - гипотеза за номером 4, \"Изменить цвет фона главной страницы, чтобы увеличить вовлеченность пользователей\"."
   ]
  },
  {
   "cell_type": "markdown",
   "metadata": {},
   "source": [
    "### Фреймворк RICE"
   ]
  },
  {
   "cell_type": "markdown",
   "metadata": {},
   "source": [
    "Будет также проведена приоритизация гипотез с помощью фреймворка RICE."
   ]
  },
  {
   "cell_type": "code",
   "execution_count": 13,
   "metadata": {},
   "outputs": [
    {
     "name": "stdout",
     "output_type": "stream",
     "text": [
      "                                                                                                     hypothesis  \\\n",
      "7              Добавить форму подписки на все основные страницы, чтобы собрать базу клиентов для email-рассылок   \n",
      "2  Добавить блоки рекомендаций товаров на сайт интернет магазина, чтобы повысить конверсию и средний чек заказа   \n",
      "0            Добавить два новых канала привлечения трафика, что позволит привлекать на 30% больше пользователей   \n",
      "6          Показать на главной странице баннеры с актуальными акциями и распродажами, чтобы увеличить конверсию   \n",
      "8                                                       Запустить акцию, дающую скидку на товар в день рождения   \n",
      "3           Изменить структура категорий, что увеличит конверсию, т.к. пользователи быстрее найдут нужный товар   \n",
      "1                                     Запустить собственную службу доставки, что сократит срок доставки заказов   \n",
      "5                      Добавить страницу отзывов клиентов о магазине, что позволит увеличить количество заказов   \n",
      "4                              Изменить цвет фона главной страницы, чтобы увеличить вовлеченность пользователей   \n",
      "\n",
      "    RICE  \n",
      "7 112.00  \n",
      "2  56.00  \n",
      "0  40.00  \n",
      "6  40.00  \n",
      "8  16.20  \n",
      "3   9.00  \n",
      "1   4.00  \n",
      "5   4.00  \n",
      "4   3.00  \n"
     ]
    }
   ],
   "source": [
    "hypothesis_2['RICE'] = (hypothesis_2['reach'] * hypothesis_2['impact'] * hypothesis_2['confidence']) / hypothesis_2['efforts']\n",
    "print(hypothesis_2[['hypothesis', 'RICE']].sort_values(by = 'RICE', ascending = False))"
   ]
  },
  {
   "cell_type": "markdown",
   "metadata": {},
   "source": [
    "ТОП-3 гипотезы в соответствии с фреймворком ICE:\n",
    "\n",
    "* Номер 7: \"Добавить форму подписки на все основные страницы, чтобы собрать базу клиентов для email-рассылок\" - 112.00   \n",
    "* Номер 2: \"Добавить блоки рекомендаций товаров на сайт интернет магазина, чтобы повысить конверсию и средний чек заказа\" - 56.00   \n",
    "* Номер 0: \"Добавить два новых канала привлечения трафика, что позволит привлекать на 30% больше пользователей\" - 40.00    \n",
    "* Номер 6: \"Показать на главной странице баннеры с актуальными акциями и распродажами, чтобы увеличить конверсию\" - 40.00\n",
    "\n",
    "Наименее приоритетная - всё ещё гипотеза за номером 4, \"Изменить цвет фона главной страницы, чтобы увеличить вовлеченность пользователей\", в этот раз с оценкой в 3 балла.\n",
    "\n",
    "**Сравнение фреймворков**\n",
    "\n",
    "Разница между фреймворками заключается в использовании в RICE дополнительного параметра Reach - скольких пользователей затронет изменение, которое намереваются внести. Так, гипотеза-лидер при использовании фреймворка ICE - \"Запустить акцию, дающую скидку на товар в день рождения\" - касается только части пользователей, в то время как добавление форм подписок на все основные страницы (ТОП-гипотеза при использовании фреймворка RICE) - касается сразу всех, что и объясняет её лидирующее положение в данном рейтинге. \n",
    "\n",
    "Примечательно, что гипотезы под номером 0 и 7 вошли в оба ТОП-3 - это гипотезы \"Добавить форму подписки на все основные страницы, чтобы собрать базу клиентов для email-рассылок\" и \"Добавить два новых канала привлечения трафика, что позволит привлекать на 30% больше пользователей\", а гипотезы 4 и 5 остались в числе ТОП-3 аутсайдеров в обоих рейтингах. "
   ]
  },
  {
   "cell_type": "markdown",
   "metadata": {},
   "source": [
    "## Анализ A/B-теста"
   ]
  },
  {
   "cell_type": "markdown",
   "metadata": {},
   "source": [
    "Данная глава посвящена анализу A/B-теста, результаты которого представлены в датафреймах orders и visitors. "
   ]
  },
  {
   "cell_type": "markdown",
   "metadata": {},
   "source": [
    "### График кумулятивной выручки по группам"
   ]
  },
  {
   "cell_type": "markdown",
   "metadata": {},
   "source": [
    "Будет создан массив уникальных пар значений дат и групп теста."
   ]
  },
  {
   "cell_type": "code",
   "execution_count": 14,
   "metadata": {},
   "outputs": [
    {
     "data": {
      "text/html": [
       "<div>\n",
       "<style scoped>\n",
       "    .dataframe tbody tr th:only-of-type {\n",
       "        vertical-align: middle;\n",
       "    }\n",
       "\n",
       "    .dataframe tbody tr th {\n",
       "        vertical-align: top;\n",
       "    }\n",
       "\n",
       "    .dataframe thead th {\n",
       "        text-align: right;\n",
       "    }\n",
       "</style>\n",
       "<table border=\"1\" class=\"dataframe\">\n",
       "  <thead>\n",
       "    <tr style=\"text-align: right;\">\n",
       "      <th></th>\n",
       "      <th>date</th>\n",
       "      <th>group</th>\n",
       "    </tr>\n",
       "  </thead>\n",
       "  <tbody>\n",
       "    <tr>\n",
       "      <th>55</th>\n",
       "      <td>2019-08-01</td>\n",
       "      <td>A</td>\n",
       "    </tr>\n",
       "    <tr>\n",
       "      <th>66</th>\n",
       "      <td>2019-08-01</td>\n",
       "      <td>B</td>\n",
       "    </tr>\n",
       "    <tr>\n",
       "      <th>175</th>\n",
       "      <td>2019-08-02</td>\n",
       "      <td>A</td>\n",
       "    </tr>\n",
       "    <tr>\n",
       "      <th>173</th>\n",
       "      <td>2019-08-02</td>\n",
       "      <td>B</td>\n",
       "    </tr>\n",
       "    <tr>\n",
       "      <th>291</th>\n",
       "      <td>2019-08-03</td>\n",
       "      <td>A</td>\n",
       "    </tr>\n",
       "    <tr>\n",
       "      <th>...</th>\n",
       "      <td>...</td>\n",
       "      <td>...</td>\n",
       "    </tr>\n",
       "    <tr>\n",
       "      <th>496</th>\n",
       "      <td>2019-08-29</td>\n",
       "      <td>B</td>\n",
       "    </tr>\n",
       "    <tr>\n",
       "      <th>730</th>\n",
       "      <td>2019-08-30</td>\n",
       "      <td>A</td>\n",
       "    </tr>\n",
       "    <tr>\n",
       "      <th>690</th>\n",
       "      <td>2019-08-30</td>\n",
       "      <td>B</td>\n",
       "    </tr>\n",
       "    <tr>\n",
       "      <th>958</th>\n",
       "      <td>2019-08-31</td>\n",
       "      <td>A</td>\n",
       "    </tr>\n",
       "    <tr>\n",
       "      <th>930</th>\n",
       "      <td>2019-08-31</td>\n",
       "      <td>B</td>\n",
       "    </tr>\n",
       "  </tbody>\n",
       "</table>\n",
       "<p>62 rows × 2 columns</p>\n",
       "</div>"
      ],
      "text/plain": [
       "          date group\n",
       "55  2019-08-01     A\n",
       "66  2019-08-01     B\n",
       "175 2019-08-02     A\n",
       "173 2019-08-02     B\n",
       "291 2019-08-03     A\n",
       "..         ...   ...\n",
       "496 2019-08-29     B\n",
       "730 2019-08-30     A\n",
       "690 2019-08-30     B\n",
       "958 2019-08-31     A\n",
       "930 2019-08-31     B\n",
       "\n",
       "[62 rows x 2 columns]"
      ]
     },
     "execution_count": 14,
     "metadata": {},
     "output_type": "execute_result"
    }
   ],
   "source": [
    "dates_and_groups = orders[['date', 'group']].drop_duplicates().sort_values(by = ['date', 'group'])\n",
    "dates_and_groups"
   ]
  },
  {
   "cell_type": "markdown",
   "metadata": {},
   "source": [
    "Собраны агрегированные кумулятивные по дням данные о заказах:"
   ]
  },
  {
   "cell_type": "code",
   "execution_count": 15,
   "metadata": {},
   "outputs": [
    {
     "name": "stdout",
     "output_type": "stream",
     "text": [
      "         date group  orders  buyers  revenue  visitors\n",
      "0  2019-08-01     A      24      20   148579       719\n",
      "1  2019-08-01     B      21      20   101217       713\n",
      "2  2019-08-02     A      44      38   242401      1338\n",
      "3  2019-08-02     B      45      43   266748      1294\n",
      "4  2019-08-03     A      68      62   354874      1845\n",
      "..        ...   ...     ...     ...      ...       ...\n",
      "57 2019-08-29     B     596     544  5559398     17708\n",
      "58 2019-08-30     A     545     493  4022970     18037\n",
      "59 2019-08-30     B     620     567  5774631     18198\n",
      "60 2019-08-31     A     557     503  4084803     18736\n",
      "61 2019-08-31     B     640     586  5907760     18916\n",
      "\n",
      "[62 rows x 6 columns]\n"
     ]
    }
   ],
   "source": [
    "orders_agg = dates_and_groups.apply(\n",
    "    lambda x: orders[\n",
    "        np.logical_and(\n",
    "            orders['date'] <= x['date'], orders['group'] == x['group']\n",
    "        )\n",
    "    ].agg(\n",
    "        {\n",
    "            'date': 'max',\n",
    "            'group': 'max',\n",
    "            'transaction_id': 'nunique',\n",
    "            'visitor_id': 'nunique',\n",
    "            'revenue': 'sum',\n",
    "        }\n",
    "    ),\n",
    "    axis=1,\n",
    ").sort_values(by = ['date', 'group'])\n",
    "\n",
    "\n",
    "visitors_agg = dates_and_groups.apply(\n",
    "    lambda x: visitors[np.logical_and(visitors['date'] <= x['date'], visitors['group'] == x['group'])].agg({'date': 'max', 'group': 'max', 'visitors': 'sum'}),\n",
    "    axis=1,).sort_values(by = ['date', 'group'])\n",
    "\n",
    "\n",
    "cumul_data = orders_agg.merge(\n",
    "    visitors_agg, left_on=['date', 'group'], right_on=['date', 'group']\n",
    ")\n",
    "cumul_data.columns = [\n",
    "    'date',\n",
    "    'group',\n",
    "    'orders',\n",
    "    'buyers',\n",
    "    'revenue',\n",
    "    'visitors',\n",
    "]\n",
    "\n",
    "print(cumul_data)"
   ]
  },
  {
   "cell_type": "markdown",
   "metadata": {},
   "source": [
    "Теперь можно построить графики кумулятивной выручки по дням и группам A/B-тестирования: "
   ]
  },
  {
   "cell_type": "code",
   "execution_count": 16,
   "metadata": {},
   "outputs": [
    {
     "data": {
      "image/png": "[encoded data removed]",
      "text/plain": [
       "<Figure size 1080x576 with 1 Axes>"
      ]
     },
     "metadata": {
      "needs_background": "light"
     },
     "output_type": "display_data"
    }
   ],
   "source": [
    "cumul_revenue_a = cumul_data[cumul_data['group']=='A'][['date','revenue', 'orders']]\n",
    "\n",
    "cumul_revenue_b = cumul_data[cumul_data['group']=='B'][['date','revenue', 'orders']]\n",
    "\n",
    "plt.figure(figsize=(15,8))\n",
    "\n",
    "plt.title('График кумулятивной выручки по группам')\n",
    "\n",
    "plt.xlabel('Дата') \n",
    "\n",
    "plt.ylabel('Кумулятивная выручка') \n",
    "\n",
    "plt.plot(cumul_revenue_a['date'], cumul_revenue_a['revenue'], label='A')\n",
    "\n",
    "plt.plot(cumul_revenue_b ['date'], cumul_revenue_b ['revenue'], label='B')\n",
    "\n",
    "plt.gcf().axes[0].yaxis.get_major_formatter().set_scientific(False)\n",
    "\n",
    "plt.legend();"
   ]
  },
  {
   "cell_type": "markdown",
   "metadata": {},
   "source": [
    "**Выводы и предположения:**\n",
    "\n",
    "График наглядно демонстрирует следующее:\n",
    "* кумулятивная выручка у группы B почти всегда равно или выше кумулятивной выручки у группы А. \n",
    "* кумулятивные выручки у обеих групп постоянно увеличивается, что является хорошим знаком:\n",
    "    * у группы А выручка растёт равномерно;\n",
    "    * у группы B был резкий скачок 18.08.2019.\n",
    "    \n",
    "Резкий рост выручки может означать либо всплеск числа заказов, либо появление очень дорогих заказов в выборке. Необходимо построить график кумулятивного среднего чека по группам с целью выяснения причины роста."
   ]
  },
  {
   "cell_type": "markdown",
   "metadata": {},
   "source": [
    "### График кумулятивного среднего чека по группам"
   ]
  },
  {
   "cell_type": "code",
   "execution_count": 17,
   "metadata": {},
   "outputs": [
    {
     "data": {
      "image/png": "[encoded data removed]",
      "text/plain": [
       "<Figure size 1080x576 with 1 Axes>"
      ]
     },
     "metadata": {
      "needs_background": "light"
     },
     "output_type": "display_data"
    }
   ],
   "source": [
    "plt.figure(figsize=(15,8))\n",
    "\n",
    "plt.title('График кумулятивного среднего чека по группам')\n",
    "\n",
    "plt.xlabel('Дата') \n",
    "\n",
    "plt.ylabel('Кумулятивный средний чек') \n",
    "\n",
    "plt.plot(cumul_revenue_a['date'], cumul_revenue_a['revenue']/cumul_revenue_a['orders'], label='A')\n",
    "\n",
    "plt.plot(cumul_revenue_b['date'], cumul_revenue_b['revenue']/cumul_revenue_b['orders'], label='B')\n",
    "\n",
    "plt.legend();"
   ]
  },
  {
   "cell_type": "markdown",
   "metadata": {},
   "source": [
    "**Выводы и предположения:**\n",
    "\n",
    "Кумулятивный средний чек у группы B сильно вырос после 18 августа, что говорит о попадании в выборку очень дорогих (для данной выборки) заказов. В большинстве случаев кумулятивный средний чек у группы В заметно выше, чем кумулятивный средний чек у группы А.\n",
    "\n",
    "Будет построен и изучен график относительного изменения кумулятивного среднего чека группы B к группе A."
   ]
  },
  {
   "cell_type": "markdown",
   "metadata": {},
   "source": [
    "### График относительного изменения кумулятивного среднего чека группы B к группе A"
   ]
  },
  {
   "cell_type": "code",
   "execution_count": 18,
   "metadata": {},
   "outputs": [
    {
     "data": {
      "image/png": "[encoded data removed]",
      "text/plain": [
       "<Figure size 1080x576 with 1 Axes>"
      ]
     },
     "metadata": {
      "needs_background": "light"
     },
     "output_type": "display_data"
    }
   ],
   "source": [
    "plt.figure(figsize=(15,8))\n",
    "\n",
    "plt.title('График относительного изменения кумулятивного среднего чека группы B к группе A')\n",
    "\n",
    "plt.xlabel('Дата') \n",
    "\n",
    "plt.ylabel('Относительное изменение кумулятивного среднего чека группы B к группе A') \n",
    "\n",
    "merged_cumul_rev = cumul_revenue_a.merge(cumul_revenue_b, left_on='date', right_on='date', how='left', suffixes=['A', 'B'])\n",
    "\n",
    "plt.plot(merged_cumul_rev['date'], (merged_cumul_rev['revenueB']/merged_cumul_rev['ordersB'])/(merged_cumul_rev['revenueA']/merged_cumul_rev['ordersA'])-1)\n",
    "\n",
    "plt.axhline(y=0, color='black', linestyle='--');"
   ]
  },
  {
   "cell_type": "markdown",
   "metadata": {},
   "source": [
    "**Выводы и предположения:**\n",
    "\n",
    "На графике заметны резкие «скачки», что говорит о наличии аномалий, включая крупные заказы, которые были обнаружены ранее. В целом показатели группы В выше аналогичных показателей группы А, не считая двух краткосрочных \"провалов\" в начале и середине исследуемого периода.\n",
    "\n",
    "Будет также изучен график кумулятивного среднего количества заказов на посетителя по группам."
   ]
  },
  {
   "cell_type": "markdown",
   "metadata": {},
   "source": [
    "### График кумулятивного среднего количества заказов на посетителя по группам"
   ]
  },
  {
   "cell_type": "code",
   "execution_count": 19,
   "metadata": {},
   "outputs": [
    {
     "data": {
      "image/png": "[encoded data removed]",
      "text/plain": [
       "<Figure size 1080x576 with 1 Axes>"
      ]
     },
     "metadata": {
      "needs_background": "light"
     },
     "output_type": "display_data"
    }
   ],
   "source": [
    "cumul_data['conversion'] = cumul_data['orders']/cumul_data['visitors']\n",
    "\n",
    "cumul_data_a = cumul_data[cumul_data['group']=='A']\n",
    "\n",
    "cumul_data_b = cumul_data[cumul_data['group']=='B']\n",
    "\n",
    "merged_cumul_conv = cumul_data_a[['date','conversion']].merge(cumul_data_b[['date','conversion']], left_on='date', right_on='date', how='left', suffixes=['A', 'B'])\n",
    "\n",
    "\n",
    "plt.figure(figsize=(15,8))\n",
    "\n",
    "plt.title('График кумулятивного среднего количества заказов на посетителя по группам')\n",
    "\n",
    "plt.xlabel('Дата') \n",
    "\n",
    "plt.ylabel('Кумулятивное среднее количество заказов на посетителя по группам') \n",
    "\n",
    "plt.plot(cumul_data_a['date'], cumul_data_a['conversion'], label='A')\n",
    "\n",
    "plt.plot(cumul_data_b['date'], cumul_data_b['conversion'], label='B')\n",
    "\n",
    "plt.legend();"
   ]
  },
  {
   "cell_type": "markdown",
   "metadata": {},
   "source": [
    "График показывает, что сначала значения \"прыгали\", при этом результаты группы А были намного выше, чем у группы B. Однако после 06.08.2019 ситуация сильно изменилась: значения группы В сильно выросли и с тех кумулятивное среднее количество заказов на посетителя у группы В всегда было намного выше, чем у группы А: если у группы В среднее количество заказов осцилировало вокруг значения 0,034, то у группы А кумулятивное среднее количество заказов сильно просело и начало осцилировать вокруг значения 0,030. "
   ]
  },
  {
   "cell_type": "markdown",
   "metadata": {},
   "source": [
    "### График относительного изменения кумулятивного среднего количества заказов на посетителя группы B к группе A"
   ]
  },
  {
   "cell_type": "code",
   "execution_count": 20,
   "metadata": {},
   "outputs": [
    {
     "data": {
      "image/png": "[encoded data removed]",
      "text/plain": [
       "<Figure size 1080x576 with 1 Axes>"
      ]
     },
     "metadata": {
      "needs_background": "light"
     },
     "output_type": "display_data"
    }
   ],
   "source": [
    "plt.figure(figsize=(15,8))\n",
    "\n",
    "plt.title('График относительного изменения кумулятивного среднего количества заказов на посетителя группы B к группе A')\n",
    "\n",
    "plt.xlabel('Дата') \n",
    "\n",
    "plt.ylabel('Относительное изменение кумулятивного среднего количества заказов на посетителя группы B к группе A') \n",
    "\n",
    "plt.plot(merged_cumul_conv ['date'], merged_cumul_conv ['conversionB']/merged_cumul_conv ['conversionA']-1, label=\"Относительный прирост кумулятивного среднего количества заказов на посетителя группы B относительно группы A\")\n",
    "\n",
    "plt.legend()\n",
    "\n",
    "plt.axhline(y=0, color='black', linestyle='--')\n",
    "plt.axhline(y=0.11, color='grey', linestyle='--')\n",
    "plt.axhline(y=0.16, color='grey', linestyle='--');"
   ]
  },
  {
   "cell_type": "markdown",
   "metadata": {},
   "source": [
    "**Выводы и предположения:**\n",
    "\n",
    "В начале теста группа В проигрывала группе А, не считая одной кратковременной \"победы\" (первый пик на графике). Но после 05.08.2019 группа В заметно вырвалась вперёд, и хотя значение относительного изменения постоянно колебалось, осцилируя вокруг значений 0,16, а позже 0,11, группа В на протяжении всего отрезка времени выигрывала у группы А. Ухудшение результата группы B (с 0,16 до 0,11) после 21.08.2019 совпадает по времени с падением значения кумулятивного среднего чека данной группы."
   ]
  },
  {
   "cell_type": "markdown",
   "metadata": {},
   "source": [
    "### Количество заказов на одного пользователя"
   ]
  },
  {
   "cell_type": "code",
   "execution_count": 21,
   "metadata": {},
   "outputs": [
    {
     "data": {
      "image/png": "[encoded data removed]",
      "text/plain": [
       "<Figure size 1080x576 with 1 Axes>"
      ]
     },
     "metadata": {
      "needs_background": "light"
     },
     "output_type": "display_data"
    }
   ],
   "source": [
    "plt.figure(figsize=(15,8))\n",
    "\n",
    "plt.title('Точечная диаграмма числа заказов на одного пользователя')\n",
    "\n",
    "plt.xlabel('Порядковый номер пользователя') \n",
    "\n",
    "plt.ylabel('Число заказов') \n",
    "\n",
    "orders_users = (\n",
    "    orders.groupby('visitor_id', as_index=False)\n",
    "    .agg({'transaction_id': 'nunique'})\n",
    ")\n",
    "\n",
    "orders_users.columns = ['visitor_id', 'orders']\n",
    "\n",
    "x_values = pd.Series(range(0,len(orders_users)))\n",
    "\n",
    "plt.scatter(x_values, orders_users['orders']); "
   ]
  },
  {
   "cell_type": "markdown",
   "metadata": {},
   "source": [
    "Большинство пользователей сделали только 1 заказ, иногда встречаются пользователи, сделавшие 2 заказа. Намного меньше тех, кто сделал 3 заказа, количество пользователей, сделавших более 5 заказов, единично. "
   ]
  },
  {
   "cell_type": "markdown",
   "metadata": {},
   "source": [
    "Определение 95-го и 99-го перцентилей количества заказов на пользователя:"
   ]
  },
  {
   "cell_type": "code",
   "execution_count": 22,
   "metadata": {},
   "outputs": [
    {
     "name": "stdout",
     "output_type": "stream",
     "text": [
      "[2. 4.]\n"
     ]
    }
   ],
   "source": [
    "print(np.percentile(orders_users['orders'], [95, 99])) "
   ]
  },
  {
   "cell_type": "code",
   "execution_count": 23,
   "metadata": {},
   "outputs": [
    {
     "data": {
      "text/plain": [
       "2.0"
      ]
     },
     "execution_count": 23,
     "metadata": {},
     "output_type": "execute_result"
    }
   ],
   "source": [
    "anomaly_border_1 = np.percentile(orders_users['orders'], [95])[0]\n",
    "anomaly_border_1 "
   ]
  },
  {
   "cell_type": "markdown",
   "metadata": {},
   "source": [
    "Не более 5% пользователей сделали более 2-х заказов и не более 1% более 4 заказов. \n",
    "\n",
    "Аномальными пользователями будут признаны те, кто сделал больше 2 заказов."
   ]
  },
  {
   "cell_type": "markdown",
   "metadata": {},
   "source": [
    "### Стоимость заказов"
   ]
  },
  {
   "cell_type": "markdown",
   "metadata": {},
   "source": [
    "Точечный график стоимостей заказов:"
   ]
  },
  {
   "cell_type": "code",
   "execution_count": 24,
   "metadata": {},
   "outputs": [
    {
     "data": {
      "image/png": "[encoded data removed]",
      "text/plain": [
       "<Figure size 1080x576 with 1 Axes>"
      ]
     },
     "metadata": {
      "needs_background": "light"
     },
     "output_type": "display_data"
    }
   ],
   "source": [
    "rev_total = orders['revenue']\n",
    "\n",
    "plt.figure(figsize=(15,8))\n",
    "\n",
    "plt.xlabel('Порядковый номер заказа') \n",
    "\n",
    "plt.ylabel('Стоимость заказа') \n",
    "\n",
    "plt.title('Точечный график стоимостей заказов')\n",
    "\n",
    "plt.gcf().axes[0].yaxis.get_major_formatter().set_scientific(False)\n",
    "x_values = pd.Series(range(0,len(rev_total)))\n",
    "\n",
    "plt.scatter(x_values, rev_total); "
   ]
  },
  {
   "cell_type": "markdown",
   "metadata": {},
   "source": [
    "На графике видно, что большая часть значений стоимости заказов находится в пределах примерно 30 тысяч. Необходимо посчитать 95-й и 99-й перцентили стоимости заказов. "
   ]
  },
  {
   "cell_type": "code",
   "execution_count": 25,
   "metadata": {},
   "outputs": [
    {
     "name": "stdout",
     "output_type": "stream",
     "text": [
      "[28000.  39530.  58233.2]\n"
     ]
    }
   ],
   "source": [
    "print(np.percentile(orders['revenue'], [95, 97.5, 99])) "
   ]
  },
  {
   "cell_type": "code",
   "execution_count": 26,
   "metadata": {},
   "outputs": [
    {
     "data": {
      "text/plain": [
       "28000.000000000004"
      ]
     },
     "execution_count": 26,
     "metadata": {},
     "output_type": "execute_result"
    }
   ],
   "source": [
    "anomaly_border_2 = np.percentile(orders['revenue'], [95])[0]\n",
    "anomaly_border_2"
   ]
  },
  {
   "cell_type": "markdown",
   "metadata": {},
   "source": [
    "Только 5% заказов стоят более 28 тысяч, 2,5% заказов - дороже 39,5 тысяч, и 1% - более 58,2 тыс. \n",
    "Граница для определения аномальных заказов будет определена на отметке в 28 тыс.\n",
    "\n",
    "Время приступать к подсчёту статистической значимости различий в среднем количестве заказов на посетителя и в среднем чеке заказа между группами. Сначала данные будут подсчитаны для \"сырых\" данных, затем - для \"очищенных\"."
   ]
  },
  {
   "cell_type": "markdown",
   "metadata": {},
   "source": [
    "### Cтатистическая значимость различий в среднем количестве заказов на посетителя между группами по «сырым» данным"
   ]
  },
  {
   "cell_type": "markdown",
   "metadata": {},
   "source": [
    "Для начала анализа необходимо сформулировать гипотезы:\n",
    "\n",
    "H0: \"Среди среднего количества заказов на посетителя нет статистически значимых различий между группами по \"сырым\" данным\".\n",
    "\n",
    "H1: \"Среди среднего количества заказов на посетителя есть статистически значимые различия между группами по \"сырым\" данным\".\n",
    "\n",
    "\n",
    "А также подготовить данные:"
   ]
  },
  {
   "cell_type": "code",
   "execution_count": 27,
   "metadata": {},
   "outputs": [
    {
     "data": {
      "text/html": [
       "<div>\n",
       "<style scoped>\n",
       "    .dataframe tbody tr th:only-of-type {\n",
       "        vertical-align: middle;\n",
       "    }\n",
       "\n",
       "    .dataframe tbody tr th {\n",
       "        vertical-align: top;\n",
       "    }\n",
       "\n",
       "    .dataframe thead th {\n",
       "        text-align: right;\n",
       "    }\n",
       "</style>\n",
       "<table border=\"1\" class=\"dataframe\">\n",
       "  <thead>\n",
       "    <tr style=\"text-align: right;\">\n",
       "      <th></th>\n",
       "      <th>date</th>\n",
       "      <th>orders_a_per_day</th>\n",
       "      <th>revenue_a_per_day</th>\n",
       "      <th>orders_b_per_day</th>\n",
       "      <th>revenue_b_per_day</th>\n",
       "      <th>orders_cumulative_a</th>\n",
       "      <th>revenue_cumulative_a</th>\n",
       "      <th>orders_cumulative_b</th>\n",
       "      <th>revenue_cumulative_b</th>\n",
       "      <th>visitors_per_date_a</th>\n",
       "      <th>visitors_per_date_b</th>\n",
       "      <th>visitors_cumulative_a</th>\n",
       "      <th>visitors_cumulative_b</th>\n",
       "    </tr>\n",
       "  </thead>\n",
       "  <tbody>\n",
       "    <tr>\n",
       "      <th>0</th>\n",
       "      <td>2019-08-01</td>\n",
       "      <td>24</td>\n",
       "      <td>148579</td>\n",
       "      <td>21</td>\n",
       "      <td>101217</td>\n",
       "      <td>24</td>\n",
       "      <td>148579</td>\n",
       "      <td>21</td>\n",
       "      <td>101217</td>\n",
       "      <td>719</td>\n",
       "      <td>713</td>\n",
       "      <td>719</td>\n",
       "      <td>713</td>\n",
       "    </tr>\n",
       "    <tr>\n",
       "      <th>1</th>\n",
       "      <td>2019-08-02</td>\n",
       "      <td>20</td>\n",
       "      <td>93822</td>\n",
       "      <td>24</td>\n",
       "      <td>165531</td>\n",
       "      <td>44</td>\n",
       "      <td>242401</td>\n",
       "      <td>45</td>\n",
       "      <td>266748</td>\n",
       "      <td>619</td>\n",
       "      <td>581</td>\n",
       "      <td>1338</td>\n",
       "      <td>1294</td>\n",
       "    </tr>\n",
       "    <tr>\n",
       "      <th>2</th>\n",
       "      <td>2019-08-03</td>\n",
       "      <td>24</td>\n",
       "      <td>112473</td>\n",
       "      <td>16</td>\n",
       "      <td>114248</td>\n",
       "      <td>68</td>\n",
       "      <td>354874</td>\n",
       "      <td>61</td>\n",
       "      <td>380996</td>\n",
       "      <td>507</td>\n",
       "      <td>509</td>\n",
       "      <td>1845</td>\n",
       "      <td>1803</td>\n",
       "    </tr>\n",
       "    <tr>\n",
       "      <th>3</th>\n",
       "      <td>2019-08-04</td>\n",
       "      <td>16</td>\n",
       "      <td>70825</td>\n",
       "      <td>17</td>\n",
       "      <td>108571</td>\n",
       "      <td>84</td>\n",
       "      <td>425699</td>\n",
       "      <td>78</td>\n",
       "      <td>489567</td>\n",
       "      <td>717</td>\n",
       "      <td>770</td>\n",
       "      <td>2562</td>\n",
       "      <td>2573</td>\n",
       "    </tr>\n",
       "    <tr>\n",
       "      <th>4</th>\n",
       "      <td>2019-08-05</td>\n",
       "      <td>25</td>\n",
       "      <td>124218</td>\n",
       "      <td>23</td>\n",
       "      <td>92428</td>\n",
       "      <td>109</td>\n",
       "      <td>549917</td>\n",
       "      <td>101</td>\n",
       "      <td>581995</td>\n",
       "      <td>756</td>\n",
       "      <td>707</td>\n",
       "      <td>3318</td>\n",
       "      <td>3280</td>\n",
       "    </tr>\n",
       "  </tbody>\n",
       "</table>\n",
       "</div>"
      ],
      "text/plain": [
       "        date  orders_a_per_day  revenue_a_per_day  orders_b_per_day  \\\n",
       "0 2019-08-01                24             148579                21   \n",
       "1 2019-08-02                20              93822                24   \n",
       "2 2019-08-03                24             112473                16   \n",
       "3 2019-08-04                16              70825                17   \n",
       "4 2019-08-05                25             124218                23   \n",
       "\n",
       "   revenue_b_per_day  orders_cumulative_a  revenue_cumulative_a  \\\n",
       "0             101217                   24                148579   \n",
       "1             165531                   44                242401   \n",
       "2             114248                   68                354874   \n",
       "3             108571                   84                425699   \n",
       "4              92428                  109                549917   \n",
       "\n",
       "   orders_cumulative_b  revenue_cumulative_b  visitors_per_date_a  \\\n",
       "0                   21                101217                  719   \n",
       "1                   45                266748                  619   \n",
       "2                   61                380996                  507   \n",
       "3                   78                489567                  717   \n",
       "4                  101                581995                  756   \n",
       "\n",
       "   visitors_per_date_b  visitors_cumulative_a  visitors_cumulative_b  \n",
       "0                  713                    719                    713  \n",
       "1                  581                   1338                   1294  \n",
       "2                  509                   1845                   1803  \n",
       "3                  770                   2562                   2573  \n",
       "4                  707                   3318                   3280  "
      ]
     },
     "execution_count": 27,
     "metadata": {},
     "output_type": "execute_result"
    }
   ],
   "source": [
    "visitors_a_per_day = visitors[visitors['group'] == 'A'][['date', 'visitors']]\n",
    "visitors_a_per_day.columns = ['date', 'visitors_per_date_a']\n",
    "\n",
    "visitors_b_per_day = visitors[visitors['group'] == 'B'][['date', 'visitors']]\n",
    "visitors_b_per_day.columns = ['date', 'visitors_per_date_b']\n",
    "\n",
    "visitors_cumul_a = visitors_a_per_day.apply(\n",
    "    lambda x: visitors_a_per_day[visitors_a_per_day['date'] <= x['date']].agg(\n",
    "        {'date': 'max', 'visitors_per_date_a': 'sum'}\n",
    "    ),\n",
    "    axis=1,\n",
    ")\n",
    "visitors_cumul_a.columns = ['date', 'visitors_cumulative_a']\n",
    "\n",
    "visitors_cumul_b = visitors_b_per_day.apply(\n",
    "    lambda x: visitors_b_per_day[visitors_b_per_day['date'] <= x['date']].agg(\n",
    "        {'date': 'max', 'visitors_per_date_b': 'sum'}\n",
    "    ),\n",
    "    axis=1,\n",
    ")\n",
    "visitors_cumul_b.columns = ['date', 'visitors_cumulative_b']\n",
    "\n",
    "orders_a_per_day = (\n",
    "    orders[orders['group'] == 'A'][['date', 'transaction_id', 'visitor_id', 'revenue']]\n",
    "    .groupby('date', as_index=False)\n",
    "    .agg({'transaction_id': pd.Series.nunique, 'revenue': 'sum'})\n",
    ")\n",
    "orders_a_per_day.columns = ['date', 'orders_a_per_day', 'revenue_a_per_day']\n",
    "\n",
    "orders_cumul_a = orders_a_per_day.apply(\n",
    "    lambda x: orders_a_per_day[orders_a_per_day['date'] <= x['date']].agg(\n",
    "        {'date': 'max', 'orders_a_per_day': 'sum', 'revenue_a_per_day': 'sum'}\n",
    "    ),\n",
    "    axis=1,\n",
    ").sort_values(by=['date'])\n",
    "\n",
    "orders_cumul_a.columns = [\n",
    "    'date',\n",
    "    'orders_cumulative_a',\n",
    "    'revenue_cumulative_a',\n",
    "]\n",
    "\n",
    "orders_b_per_day = (\n",
    "    orders[orders['group'] == 'B'][['date', 'transaction_id', 'visitor_id', 'revenue']]\n",
    "    .groupby('date', as_index=False)\n",
    "    .agg({'transaction_id': pd.Series.nunique, 'revenue': 'sum'})\n",
    ")\n",
    "orders_b_per_day.columns = ['date', 'orders_b_per_day', 'revenue_b_per_day']\n",
    "\n",
    "\n",
    "orders_cumul_b = orders_b_per_day.apply(\n",
    "    lambda x: orders_b_per_day[orders_b_per_day['date'] <= x['date']].agg(\n",
    "        {'date': 'max', 'orders_b_per_day': 'sum', 'revenue_b_per_day': 'sum'}\n",
    "    ),\n",
    "    axis=1,\n",
    ").sort_values(by=['date'])\n",
    "\n",
    "\n",
    "orders_cumul_b.columns = [\n",
    "    'date',\n",
    "    'orders_cumulative_b',\n",
    "    'revenue_cumulative_b',\n",
    "]\n",
    "\n",
    "table_together = (\n",
    "    orders_a_per_day.merge(\n",
    "        orders_b_per_day, left_on='date', right_on='date', how='left'\n",
    "    )\n",
    "    .merge(orders_cumul_a, left_on='date', right_on='date', how='left')\n",
    "    .merge(orders_cumul_b, left_on='date', right_on='date', how='left')\n",
    "    .merge(visitors_a_per_day, left_on='date', right_on='date', how='left')\n",
    "    .merge(visitors_b_per_day, left_on='date', right_on='date', how='left')\n",
    "    .merge(visitors_cumul_a, left_on='date', right_on='date', how='left')\n",
    "    .merge(visitors_cumul_b, left_on='date', right_on='date', how='left')\n",
    ")\n",
    "\n",
    "table_together.head(5)"
   ]
  },
  {
   "cell_type": "markdown",
   "metadata": {},
   "source": [
    "Данная таблица отображает следующую информацию:\n",
    "* date - дату;\n",
    "* orders_a_per_day - количество заказов в группе A в соответствующий день;\n",
    "* revenue_a_per_day - выручка в группе A в соответствующий день;\t\n",
    "* orders_b_per_day - количество заказов в группе B в соответствующий день;\n",
    "* revenue_b_per_day - выручка в группе B в соответствующий день;\t \t\n",
    "* orders_cumulative_a - суммарное число заказов в группе A по выбранную дату включительно;\t\n",
    "* revenue_cumulative_a - суммарная выручка в группе A по выбранную дату включительно;\n",
    "* orders_cumulative_b - суммарное число заказов в группе В по выбранную дату включительно; \n",
    "* revenue_cumulative_b - суммарная выручка в группе В по выбранную дату включительно; \t\n",
    "* visitors_per_date_a - количество пользователей в группе A в соответствующий день;\n",
    "* visitors_per_date_b - количество пользователей в группе B в соответствующий день; \n",
    "* visitors_cumulative_a - суммарное количество пользователей в группе A по выбранную дату включительно;\t\n",
    "* visitors_cumulative_b - суммарное количество пользователей в группе B по выбранную дату включительно. \n",
    "\n",
    "Данная информация будет использована для подсчёта статистической значимости различия в среднем количестве заказов между группами. Для начала необходимо создать две новые переменные, orders_by_users_a и orders_by_users_b, содержащие информацию о количестве сделанных каждым пользователем заказов. Затем на их основе будут созданы итоговые таблицы sample_a и sample_b, которые будут содержать информацию из orders_by_users_a и orders_by_users_b соответственно, а также нули для пользователей, которые ничего не заказывали. "
   ]
  },
  {
   "cell_type": "code",
   "execution_count": 28,
   "metadata": {},
   "outputs": [],
   "source": [
    "orders_by_users_a = (\n",
    "    orders[orders['group'] == 'A']\n",
    "    .groupby('visitor_id', as_index=False)\n",
    "    .agg({'transaction_id': pd.Series.nunique})\n",
    ")\n",
    "orders_by_users_a.columns = ['visitor_id', 'orders']\n",
    "\n",
    "\n",
    "orders_by_users_b = (\n",
    "    orders[orders['group'] == 'B']\n",
    "    .groupby('visitor_id', as_index=False)\n",
    "    .agg({'transaction_id': pd.Series.nunique})\n",
    ")\n",
    "orders_by_users_b.columns = ['visitor_id', 'orders']\n",
    "\n",
    "sample_a = pd.concat(\n",
    "    [\n",
    "        orders_by_users_a['orders'],\n",
    "        pd.Series(\n",
    "            0,\n",
    "            index=np.arange(\n",
    "                visitors_a_per_day['visitors_per_date_a'].sum() - len(orders_by_users_a['orders'])\n",
    "            ),\n",
    "            name='orders',\n",
    "        ),\n",
    "    ],\n",
    "    axis=0,\n",
    ")\n",
    "\n",
    "sample_b = pd.concat(\n",
    "    [\n",
    "        orders_by_users_b['orders'],\n",
    "        pd.Series(\n",
    "            0,\n",
    "            index=np.arange(\n",
    "                visitors_b_per_day['visitors_per_date_b'].sum() - len(orders_by_users_b['orders'])\n",
    "            ),\n",
    "            name='orders',\n",
    "        ),\n",
    "    ],\n",
    "    axis=0,\n",
    ")"
   ]
  },
  {
   "cell_type": "markdown",
   "metadata": {},
   "source": [
    "Финальный шаг - вычислить относительное различие в среднем между группами.\n",
    "Также можно вычислить относительный прирост среднего числа заказов группы B:"
   ]
  },
  {
   "cell_type": "code",
   "execution_count": 29,
   "metadata": {},
   "outputs": [
    {
     "name": "stdout",
     "output_type": "stream",
     "text": [
      "P-value составляет: 0.017\n",
      "Относительный прирост среднего числа заказов группы B равен: 13.808 %\n",
      "Нулевая гипотеза отвергается\n"
     ]
    }
   ],
   "source": [
    "alpha = 0.05\n",
    "test_1 = stats.mannwhitneyu(sample_a, sample_b)\n",
    "mean_1 = (sample_b.mean() / sample_a.mean() - 1) * 100\n",
    "print('P-value составляет:', \"{0:.3f}\".format(test_1.pvalue)) \n",
    "print('Относительный прирост среднего числа заказов группы B равен:', \"{0:.3f}\".format(mean_1),'%')\n",
    "if test_1.pvalue < alpha:\n",
    "    print('Нулевая гипотеза отвергается')\n",
    "else:\n",
    "    print('Не получилось отвергнуть нулевую гипотезу')"
   ]
  },
  {
   "cell_type": "markdown",
   "metadata": {},
   "source": [
    "Согласно проведённому исследованию, среди среднего количества заказов на посетителя есть статистически значимые различия между группами по \"сырым\" данным. Относительный прирост среднего числа заказов группы B равен 13,8%."
   ]
  },
  {
   "cell_type": "markdown",
   "metadata": {},
   "source": [
    "### Статистическая значимость различий в среднем чеке заказа между группами по «сырым» данным"
   ]
  },
  {
   "cell_type": "markdown",
   "metadata": {},
   "source": [
    "Данные для второго анализа готовы, необходимо сформулировать новые гипотезы:\n",
    "\n",
    "H0: \"В среднем чеке заказа нет статистически значимых различий между группами по \"сырым\" данным\".\n",
    "\n",
    "H1: \"В среднем чеке заказа есть статистически значимые различия между группами по \"сырым\" данным\"."
   ]
  },
  {
   "cell_type": "code",
   "execution_count": 30,
   "metadata": {},
   "outputs": [
    {
     "name": "stdout",
     "output_type": "stream",
     "text": [
      "P-value составляет: 0.729\n",
      "Разница между средним чеком группы B и средним чеком группы А: 25.871 %\n",
      "Не получилось отвергнуть нулевую гипотезу\n"
     ]
    }
   ],
   "source": [
    "test_2 = stats.mannwhitneyu(orders[orders['group']=='A']['revenue'], orders[orders['group']=='B']['revenue'])\n",
    "mean_2 = (orders[orders['group']=='B']['revenue'].mean()/orders[orders['group']=='A']['revenue'].mean()-1)*100\n",
    "\n",
    "print('P-value составляет:', \"{0:.3f}\".format(test_2.pvalue)) \n",
    "print('Разница между средним чеком группы B и средним чеком группы А:', \"{0:.3f}\".format(mean_2),'%')\n",
    "if test_2.pvalue < alpha:\n",
    "    print('Нулевая гипотеза отвергается')\n",
    "else:\n",
    "    print('Не получилось отвергнуть нулевую гипотезу')"
   ]
  },
  {
   "cell_type": "markdown",
   "metadata": {},
   "source": [
    "Согласно проведённому исследованию, в среднем чеке заказа нет статистически значимых различий между группами по \"сырым\" данным. Разница между средним чеком группы B и средним чеком группы А составляет 25,9%\n",
    "\n",
    "Оба теста, проведённых с \"сырыми\" данными, показали, что результаты группы В лучше, чем результаты группы А.\n",
    "\n",
    "Однако ранее было проанализировано, что в датасете присутствуют аномальные пользователи. Для полноты картины необходимо удалить эти данные и ещё раз провести оба теста, используя \"очищенные\" данные."
   ]
  },
  {
   "cell_type": "markdown",
   "metadata": {},
   "source": [
    "### Cтатистическая значимость различий в среднем количестве заказов на посетителя между группами по «очищенным» данным"
   ]
  },
  {
   "cell_type": "markdown",
   "metadata": {},
   "source": [
    "Сначала необходимо сформилировать гипотезы:\n",
    "\n",
    "H0: \"Среди среднего количества заказов на посетителя нет статистически значимых различий между группами по «очищенным» данным\".\n",
    "\n",
    "H1: \"Среди среднего количества заказов на посетителя есть статистически значимые различия между группами по «очищенным» данным\".\n",
    "\n",
    "Следующий шаг - определить аномальных пользователей и их количество."
   ]
  },
  {
   "cell_type": "code",
   "execution_count": 31,
   "metadata": {},
   "outputs": [
    {
     "name": "stdout",
     "output_type": "stream",
     "text": [
      "1099    148427295\n",
      "18      199603092\n",
      "928     204675465\n",
      "23      237748145\n",
      "37      249864742\n",
      "Name: visitor_id, dtype: int64\n",
      "74\n"
     ]
    }
   ],
   "source": [
    "too_many_orders = pd.concat(\n",
    "    [\n",
    "        orders_by_users_a[orders_by_users_a['orders'] > anomaly_border_1]['visitor_id'],\n",
    "        orders_by_users_b[orders_by_users_b['orders'] > anomaly_border_1]['visitor_id'],\n",
    "    ],\n",
    "    axis=0,\n",
    ")\n",
    "\n",
    "too_expensive_orders = orders[orders['revenue'] > anomaly_border_2]['visitor_id']\n",
    "\n",
    "abnormal_users = (\n",
    "    pd.concat([too_many_orders, too_expensive_orders], axis=0)\n",
    "    .drop_duplicates()\n",
    "    .sort_values()\n",
    ")\n",
    "print(abnormal_users.head())\n",
    "print(abnormal_users.shape[0]) "
   ]
  },
  {
   "cell_type": "markdown",
   "metadata": {},
   "source": [
    "Всего 74 аномальных пользователя."
   ]
  },
  {
   "cell_type": "code",
   "execution_count": 32,
   "metadata": {},
   "outputs": [],
   "source": [
    "sample_a_fil = pd.concat(\n",
    "    [\n",
    "        orders_by_users_a[\n",
    "            np.logical_not(orders_by_users_a['visitor_id'].isin(abnormal_users))\n",
    "        ]['orders'],\n",
    "        pd.Series(\n",
    "            0,\n",
    "            index=np.arange(\n",
    "                table_together['visitors_per_date_a'].sum() - len(orders_by_users_a['orders'])\n",
    "            ),\n",
    "            name='orders',\n",
    "        ),\n",
    "    ],\n",
    "    axis=0,\n",
    ")\n",
    "\n",
    "sample_b_fil = pd.concat(\n",
    "    [\n",
    "        orders_by_users_b[\n",
    "            np.logical_not(orders_by_users_b['visitor_id'].isin(abnormal_users))\n",
    "        ]['orders'],\n",
    "        pd.Series(\n",
    "            0,\n",
    "            index=np.arange(\n",
    "                table_together['visitors_per_date_b'].sum() - len(orders_by_users_b['orders'])\n",
    "            ),\n",
    "            name='orders',\n",
    "        ),\n",
    "    ],\n",
    "    axis=0,\n",
    ")"
   ]
  },
  {
   "cell_type": "markdown",
   "metadata": {},
   "source": [
    "Выборки готовы, можно применять к ним статистический критерий Манна-Уитни:"
   ]
  },
  {
   "cell_type": "code",
   "execution_count": 33,
   "metadata": {},
   "outputs": [
    {
     "name": "stdout",
     "output_type": "stream",
     "text": [
      "P-value составляет: 0.013\n",
      "Относительный прирост среднего числа заказов группы B равен: 17.270 %\n",
      "Нулевая гипотеза отвергается\n"
     ]
    }
   ],
   "source": [
    "alpha = 0.05\n",
    "test_3 = stats.mannwhitneyu(sample_a_fil, sample_b_fil)\n",
    "mean_3 = (sample_b_fil.mean() / sample_a_fil.mean() - 1) * 100\n",
    "print('P-value составляет:', \"{0:.3f}\".format(test_3.pvalue)) \n",
    "print('Относительный прирост среднего числа заказов группы B равен:', \"{0:.3f}\".format(mean_3),'%')\n",
    "if test_3.pvalue < alpha:\n",
    "    print('Нулевая гипотеза отвергается')\n",
    "else:\n",
    "    print('Не получилось отвергнуть нулевую гипотезу')"
   ]
  },
  {
   "cell_type": "markdown",
   "metadata": {},
   "source": [
    "Согласно проведённому исследованию, среди среднего количества заказов на посетителя есть статистически значимые различия между группами по \"очищенным\" данным. Относительный прирост среднего числа заказов группы B равен 17,3%, что больше аналогичного показателя у \"сырых\" данных (13,8%). P-value стал меньше (0.013 против 0.017).\n",
    "Наконец, последний тест:"
   ]
  },
  {
   "cell_type": "markdown",
   "metadata": {},
   "source": [
    "### Статистическая значимость различий в среднем чеке заказа между группами по «очищенным» данным"
   ]
  },
  {
   "cell_type": "markdown",
   "metadata": {},
   "source": [
    "Будут сформулированы гипотезы:\n",
    "\n",
    "H0: \"В среднем чеке заказа нет статистически значимых различий между группами по «очищенным» данным\".\n",
    "\n",
    "H1: \"В среднем чеке заказа есть статистически значимые различия между группами по «очищенным» данным\".\n",
    "\n",
    "И подготовлены выборки:"
   ]
  },
  {
   "cell_type": "code",
   "execution_count": 34,
   "metadata": {},
   "outputs": [],
   "source": [
    "orders_a_fil = orders[\n",
    "                np.logical_and(\n",
    "                    orders['group'] == 'A',\n",
    "                    np.logical_not(orders['visitor_id'].isin(abnormal_users)),\n",
    "                )\n",
    "            ]['revenue']\n",
    "\n",
    "\n",
    "orders_b_fil = orders[\n",
    "                np.logical_and(\n",
    "                    orders['group'] == 'B',\n",
    "                    np.logical_not(orders['visitor_id'].isin(abnormal_users)),\n",
    "                )\n",
    "            ]['revenue']\n"
   ]
  },
  {
   "cell_type": "markdown",
   "metadata": {},
   "source": [
    "Можно проводить тест:"
   ]
  },
  {
   "cell_type": "code",
   "execution_count": 35,
   "metadata": {},
   "outputs": [
    {
     "name": "stdout",
     "output_type": "stream",
     "text": [
      "P-value составляет: 0.738\n",
      "Относительный прирост среднего числа заказов группы B равен: -1.962 %\n",
      "Не получилось отвергнуть нулевую гипотезу\n"
     ]
    }
   ],
   "source": [
    "alpha = 0.05\n",
    "test_4 = stats.mannwhitneyu(orders_a_fil, orders_b_fil)\n",
    "mean_4 = (orders_b_fil.mean() / orders_a_fil.mean() - 1) * 100\n",
    "print('P-value составляет:', \"{0:.3f}\".format(test_4.pvalue)) \n",
    "print('Относительный прирост среднего числа заказов группы B равен:', \"{0:.3f}\".format(mean_4),'%')\n",
    "if test_4.pvalue < alpha:\n",
    "    print('Нулевая гипотеза отвергается')\n",
    "else:\n",
    "    print('Не получилось отвергнуть нулевую гипотезу')"
   ]
  },
  {
   "cell_type": "markdown",
   "metadata": {},
   "source": [
    "Согласно проведённому исследованию, в этот раз не получилось отвергнуть нулевую гипотезу. Это означает, что в среднем чеке заказа нет статистических значимых различий между группами по \"очищенным\" данным. Теперь разница между средним чеком группы B и средним чеком группы А составляет всего -2% (вместо 25,9% ранее), т.е группа B начала демонстрировать чуть более худшие показатели, чем группа А. P-value стал больше и составляет теперь 0,738 (против 0,729 в аналогичном тесте с \"сырыми\" данными)."
   ]
  },
  {
   "cell_type": "markdown",
   "metadata": {},
   "source": [
    "\n",
    "**Итоги:**\n",
    "\n",
    "В результате проведённого исследования были сделаны следующие открытия:\n",
    "* График относительного изменения кумулятивного среднего чека группы B к группе A дпродемонстрировал, что показатели группы В были выше показателей группы А на протяжении всего исследуемого периода за исключением первых дней и краткосрочного провала в середине месяца (с 12 по 14 августа);\n",
    "* График относительного изменения кумулятивного среднего количества заказов на посетителя группы B к группе A демонстрирует, что после начального \"провала\" группа В стабильно показывала более высокие результаты, чем группа А;\n",
    "* Есть статистически значимое различие по среднему количеству заказов на посетителя между группами как по \"сырым\" данным, так и после фильтрации аномалий;\n",
    "* Нет статистически значимых различий по среднему чеку заказа между группами как по \"сырым\" данным, так и по \"очищенным\";\n",
    "* Результаты группы B почти всегда были выше результатов группы А.\n",
    "\n",
    "На основании проведённого исследования рекомендуется остановить тест, признать его успешным и зафиксировать победу группы В."
   ]
  },
  {
   "cell_type": "markdown",
   "metadata": {},
   "source": [
    "## Итоги и выводы"
   ]
  },
  {
   "cell_type": "markdown",
   "metadata": {},
   "source": [
    "Целью данного исследования являлся анализ крупного интернет-магазина, который состоял из двух частей: приоритизация гипотез для увеличения выручки из подготовленного списка и проведение A/B-теста с последующим анализом результатов. \n",
    "\n",
    "Для каждой части анализа имелись свои отдельные датафреймы: 1 датафрейм для первой части и 2 датафрейма для второй.\n",
    "\n",
    "В рамках исследования была проделана следующая работа:\n",
    "* Была проведена подготовка к анализу, а именно: осуществлена загрузка библиотек, данных, проведён первичный анализ каждого из трёх датафреймов и первичная обработка данных;\n",
    "* Была выполнена приоритизация гипотез;\n",
    "* ТОП-3 гипотезы в соответствии со фреймворком ICE:\n",
    "    * Номер 8: \"Запустить акцию, дающую скидку на товар в день рождения\" - 16.20; \n",
    "    * Номер 0: \"Добавить два новых канала привлечения трафика, что позволит привлекать на 30% больше пользователей\" - 13.33; \n",
    "    * Номер 7: \"Добавить форму подписки на все основные страницы, чтобы собрать базу клиентов для email-рассылок\" - 11.20; \n",
    "* ТОП-3 гипотезы в соответствии с фреймворком ICE:\n",
    "    * Номер 7: \"Добавить форму подписки на все основные страницы, чтобы собрать базу клиентов для email-рассылок\" - 112.00;   \n",
    "    * Номер 2: \"Добавить блоки рекомендаций товаров на сайт интернет магазина, чтобы повысить конверсию и средний чек заказа\" - 56.00;   \n",
    "    * Номер 0: \"Добавить два новых канала привлечения трафика, что позволит привлекать на 30% больше пользователей\" - 40.00;    \n",
    "    * Номер 6: \"Показать на главной странице баннеры с актуальными акциями и распродажами, чтобы увеличить конверсию\" - 40.00;\n",
    "* Наименее приоритетной гипотезой в обоих случаях был признан номер 4: \"Изменить цвет фона главной страницы, чтобы увеличить вовлеченность пользователей\";\n",
    "* Был проведён анализ A/B-теста со следующими результатами:\n",
    "    * График относительного изменения кумулятивного среднего чека группы B к группе A продемонстрировал, что показатели группы В были выше показателей группы А на протяжении всего исследуемого периода за исключением нескольких дней;\n",
    "    * График относительного изменения кумулятивного среднего количества заказов на посетителя группы B к группе A продемонстрировал, что после начального \"провала\" группа В стабильно показывала более высокие результаты, чем группа А;\n",
    "    * Есть статистически значимое различие по среднему количеству заказов на посетителя между группами как по \"сырым\" данным, так и после фильтрации аномалий;\n",
    "    * Нет статистически значимых различий по среднему чеку заказа между группами как по \"сырым\" данным, так и по \"очищенным\";\n",
    "    * Результаты группы B всегда были выше результатов группы А (за несколькими исключениями);\n",
    "* В финале была дана рекомендация остановить тест, признать его успешным и зафиксировать победу группы В."
   ]
  },
  {
   "cell_type": "code",
   "execution_count": null,
   "metadata": {},
   "outputs": [],
   "source": []
  }
 ],
 "metadata": {
  "ExecuteTimeLog": [
   {
    "duration": 1260,
    "start_time": "2024-12-27T12:01:38.272Z"
   },
   {
    "duration": 206,
    "start_time": "2024-12-27T12:01:39.534Z"
   },
   {
    "duration": 3,
    "start_time": "2024-12-27T12:02:18.469Z"
   },
   {
    "duration": 118,
    "start_time": "2024-12-27T12:02:40.494Z"
   },
   {
    "duration": 2,
    "start_time": "2024-12-27T12:02:49.642Z"
   },
   {
    "duration": 26,
    "start_time": "2024-12-27T12:02:51.811Z"
   },
   {
    "duration": 8,
    "start_time": "2024-12-27T12:06:45.610Z"
   },
   {
    "duration": 5,
    "start_time": "2024-12-27T12:07:27.729Z"
   },
   {
    "duration": 5,
    "start_time": "2024-12-27T12:08:12.684Z"
   },
   {
    "duration": 23,
    "start_time": "2024-12-27T12:08:15.039Z"
   },
   {
    "duration": 3,
    "start_time": "2024-12-27T12:08:30.187Z"
   },
   {
    "duration": 24,
    "start_time": "2024-12-27T12:08:31.704Z"
   },
   {
    "duration": 23,
    "start_time": "2024-12-27T12:22:17.489Z"
   },
   {
    "duration": 21,
    "start_time": "2024-12-27T12:22:25.436Z"
   },
   {
    "duration": 295,
    "start_time": "2024-12-27T12:26:34.331Z"
   },
   {
    "duration": 12,
    "start_time": "2024-12-27T12:26:54.211Z"
   },
   {
    "duration": 3,
    "start_time": "2024-12-27T12:29:13.875Z"
   },
   {
    "duration": 9,
    "start_time": "2024-12-27T12:29:54.004Z"
   },
   {
    "duration": 11,
    "start_time": "2024-12-27T12:35:14.351Z"
   },
   {
    "duration": 28,
    "start_time": "2024-12-27T12:35:28.964Z"
   },
   {
    "duration": 12,
    "start_time": "2024-12-27T12:36:02.213Z"
   },
   {
    "duration": 18,
    "start_time": "2024-12-27T12:36:54.569Z"
   },
   {
    "duration": 12,
    "start_time": "2024-12-27T12:38:26.683Z"
   },
   {
    "duration": 16,
    "start_time": "2024-12-27T13:29:41.371Z"
   },
   {
    "duration": 7,
    "start_time": "2024-12-27T13:33:33.260Z"
   },
   {
    "duration": 13,
    "start_time": "2024-12-27T13:33:55.614Z"
   },
   {
    "duration": 1059,
    "start_time": "2024-12-27T13:34:58.475Z"
   },
   {
    "duration": 73,
    "start_time": "2024-12-27T13:34:59.536Z"
   },
   {
    "duration": 4,
    "start_time": "2024-12-27T13:34:59.610Z"
   },
   {
    "duration": 39,
    "start_time": "2024-12-27T13:34:59.615Z"
   },
   {
    "duration": 9,
    "start_time": "2024-12-27T13:34:59.656Z"
   },
   {
    "duration": 28,
    "start_time": "2024-12-27T13:34:59.666Z"
   },
   {
    "duration": 12,
    "start_time": "2024-12-27T13:34:59.696Z"
   },
   {
    "duration": 40,
    "start_time": "2024-12-27T13:34:59.710Z"
   },
   {
    "duration": 11,
    "start_time": "2024-12-27T13:34:59.751Z"
   },
   {
    "duration": 151,
    "start_time": "2024-12-27T13:34:59.764Z"
   },
   {
    "duration": 109,
    "start_time": "2024-12-27T13:34:59.916Z"
   },
   {
    "duration": 4,
    "start_time": "2024-12-27T13:36:41.676Z"
   },
   {
    "duration": 7,
    "start_time": "2024-12-27T13:36:47.325Z"
   },
   {
    "duration": 1110,
    "start_time": "2024-12-27T13:36:53.625Z"
   },
   {
    "duration": 71,
    "start_time": "2024-12-27T13:36:54.737Z"
   },
   {
    "duration": 3,
    "start_time": "2024-12-27T13:36:54.810Z"
   },
   {
    "duration": 31,
    "start_time": "2024-12-27T13:36:54.814Z"
   },
   {
    "duration": 7,
    "start_time": "2024-12-27T13:36:54.847Z"
   },
   {
    "duration": 26,
    "start_time": "2024-12-27T13:36:54.855Z"
   },
   {
    "duration": 12,
    "start_time": "2024-12-27T13:36:54.883Z"
   },
   {
    "duration": 19,
    "start_time": "2024-12-27T13:36:54.897Z"
   },
   {
    "duration": 12,
    "start_time": "2024-12-27T13:36:54.945Z"
   },
   {
    "duration": 7,
    "start_time": "2024-12-27T13:36:54.959Z"
   },
   {
    "duration": 120,
    "start_time": "2024-12-27T13:36:54.968Z"
   },
   {
    "duration": 4,
    "start_time": "2024-12-27T13:38:52.746Z"
   },
   {
    "duration": 7,
    "start_time": "2024-12-27T13:38:57.486Z"
   },
   {
    "duration": 8,
    "start_time": "2024-12-27T13:42:31.880Z"
   },
   {
    "duration": 9,
    "start_time": "2024-12-27T13:42:40.098Z"
   },
   {
    "duration": 8,
    "start_time": "2024-12-27T13:42:52.051Z"
   },
   {
    "duration": 4,
    "start_time": "2024-12-27T15:36:00.402Z"
   },
   {
    "duration": 105,
    "start_time": "2024-12-27T15:36:04.396Z"
   },
   {
    "duration": 64,
    "start_time": "2024-12-27T17:32:33.346Z"
   },
   {
    "duration": 13,
    "start_time": "2024-12-27T17:32:42.938Z"
   },
   {
    "duration": 66,
    "start_time": "2024-12-27T17:32:51.762Z"
   },
   {
    "duration": 28,
    "start_time": "2024-12-27T17:32:54.202Z"
   },
   {
    "duration": 26,
    "start_time": "2024-12-27T17:33:26.588Z"
   },
   {
    "duration": 1034,
    "start_time": "2024-12-27T17:33:38.698Z"
   },
   {
    "duration": 79,
    "start_time": "2024-12-27T17:33:39.734Z"
   },
   {
    "duration": 4,
    "start_time": "2024-12-27T17:33:39.814Z"
   },
   {
    "duration": 45,
    "start_time": "2024-12-27T17:33:39.819Z"
   },
   {
    "duration": 7,
    "start_time": "2024-12-27T17:33:39.866Z"
   },
   {
    "duration": 32,
    "start_time": "2024-12-27T17:33:39.875Z"
   },
   {
    "duration": 12,
    "start_time": "2024-12-27T17:33:39.908Z"
   },
   {
    "duration": 41,
    "start_time": "2024-12-27T17:33:39.921Z"
   },
   {
    "duration": 12,
    "start_time": "2024-12-27T17:33:39.964Z"
   },
   {
    "duration": 9,
    "start_time": "2024-12-27T17:33:39.978Z"
   },
   {
    "duration": 19,
    "start_time": "2024-12-27T17:33:39.989Z"
   },
   {
    "duration": 61,
    "start_time": "2024-12-27T17:33:40.010Z"
   },
   {
    "duration": 185,
    "start_time": "2024-12-27T17:33:40.073Z"
   },
   {
    "duration": 0,
    "start_time": "2024-12-27T17:33:40.260Z"
   },
   {
    "duration": 4479,
    "start_time": "2024-12-27T17:35:12.242Z"
   },
   {
    "duration": 4818,
    "start_time": "2024-12-27T17:35:28.074Z"
   },
   {
    "duration": 4608,
    "start_time": "2024-12-27T17:36:00.087Z"
   },
   {
    "duration": 12,
    "start_time": "2024-12-27T17:36:34.912Z"
   },
   {
    "duration": 257,
    "start_time": "2024-12-27T17:36:37.902Z"
   },
   {
    "duration": 257,
    "start_time": "2024-12-27T17:38:01.329Z"
   },
   {
    "duration": 250,
    "start_time": "2024-12-27T17:42:45.069Z"
   },
   {
    "duration": 319,
    "start_time": "2024-12-27T17:43:26.358Z"
   },
   {
    "duration": 1120,
    "start_time": "2024-12-27T17:43:33.000Z"
   },
   {
    "duration": 79,
    "start_time": "2024-12-27T17:43:34.122Z"
   },
   {
    "duration": 3,
    "start_time": "2024-12-27T17:43:34.202Z"
   },
   {
    "duration": 83,
    "start_time": "2024-12-27T17:43:34.207Z"
   },
   {
    "duration": 9,
    "start_time": "2024-12-27T17:43:34.293Z"
   },
   {
    "duration": 63,
    "start_time": "2024-12-27T17:43:34.304Z"
   },
   {
    "duration": 16,
    "start_time": "2024-12-27T17:43:34.369Z"
   },
   {
    "duration": 25,
    "start_time": "2024-12-27T17:43:34.388Z"
   },
   {
    "duration": 47,
    "start_time": "2024-12-27T17:43:34.415Z"
   },
   {
    "duration": 8,
    "start_time": "2024-12-27T17:43:34.464Z"
   },
   {
    "duration": 9,
    "start_time": "2024-12-27T17:43:34.474Z"
   },
   {
    "duration": 31,
    "start_time": "2024-12-27T17:43:34.484Z"
   },
   {
    "duration": 120,
    "start_time": "2024-12-27T17:43:34.516Z"
   },
   {
    "duration": 0,
    "start_time": "2024-12-27T17:43:34.638Z"
   },
   {
    "duration": 260,
    "start_time": "2024-12-27T17:44:55.608Z"
   },
   {
    "duration": 267,
    "start_time": "2024-12-27T17:45:18.100Z"
   },
   {
    "duration": 257,
    "start_time": "2024-12-27T17:45:25.848Z"
   },
   {
    "duration": 297,
    "start_time": "2024-12-27T17:46:31.785Z"
   },
   {
    "duration": 95,
    "start_time": "2024-12-27T17:50:37.185Z"
   },
   {
    "duration": 14,
    "start_time": "2024-12-27T17:50:44.771Z"
   },
   {
    "duration": 1223,
    "start_time": "2024-12-27T17:50:51.838Z"
   },
   {
    "duration": 76,
    "start_time": "2024-12-27T17:50:53.067Z"
   },
   {
    "duration": 5,
    "start_time": "2024-12-27T17:50:53.145Z"
   },
   {
    "duration": 72,
    "start_time": "2024-12-27T17:50:53.152Z"
   },
   {
    "duration": 8,
    "start_time": "2024-12-27T17:50:53.226Z"
   },
   {
    "duration": 53,
    "start_time": "2024-12-27T17:50:53.235Z"
   },
   {
    "duration": 724,
    "start_time": "2024-12-27T17:50:53.290Z"
   },
   {
    "duration": 0,
    "start_time": "2024-12-27T17:50:54.016Z"
   },
   {
    "duration": 0,
    "start_time": "2024-12-27T17:50:54.018Z"
   },
   {
    "duration": 0,
    "start_time": "2024-12-27T17:50:54.020Z"
   },
   {
    "duration": 0,
    "start_time": "2024-12-27T17:50:54.022Z"
   },
   {
    "duration": 0,
    "start_time": "2024-12-27T17:50:54.023Z"
   },
   {
    "duration": 0,
    "start_time": "2024-12-27T17:50:54.025Z"
   },
   {
    "duration": 0,
    "start_time": "2024-12-27T17:50:54.026Z"
   },
   {
    "duration": 15,
    "start_time": "2024-12-27T17:51:39.144Z"
   },
   {
    "duration": 11,
    "start_time": "2024-12-27T17:58:43.759Z"
   },
   {
    "duration": 1015,
    "start_time": "2024-12-27T17:58:53.309Z"
   },
   {
    "duration": 81,
    "start_time": "2024-12-27T17:58:54.325Z"
   },
   {
    "duration": 2,
    "start_time": "2024-12-27T17:58:54.408Z"
   },
   {
    "duration": 30,
    "start_time": "2024-12-27T17:58:54.411Z"
   },
   {
    "duration": 19,
    "start_time": "2024-12-27T17:58:54.443Z"
   },
   {
    "duration": 21,
    "start_time": "2024-12-27T17:58:54.463Z"
   },
   {
    "duration": 11,
    "start_time": "2024-12-27T17:58:54.486Z"
   },
   {
    "duration": 17,
    "start_time": "2024-12-27T17:58:54.498Z"
   },
   {
    "duration": 16,
    "start_time": "2024-12-27T17:58:54.516Z"
   },
   {
    "duration": 13,
    "start_time": "2024-12-27T17:58:54.550Z"
   },
   {
    "duration": 8,
    "start_time": "2024-12-27T17:58:54.564Z"
   },
   {
    "duration": 12,
    "start_time": "2024-12-27T17:58:54.573Z"
   },
   {
    "duration": 272,
    "start_time": "2024-12-27T17:58:54.586Z"
   },
   {
    "duration": 114,
    "start_time": "2024-12-27T17:58:54.861Z"
   },
   {
    "duration": 14,
    "start_time": "2024-12-27T18:06:57.022Z"
   },
   {
    "duration": 20,
    "start_time": "2024-12-27T18:07:12.302Z"
   },
   {
    "duration": 1106,
    "start_time": "2024-12-27T18:07:17.471Z"
   },
   {
    "duration": 82,
    "start_time": "2024-12-27T18:07:18.579Z"
   },
   {
    "duration": 3,
    "start_time": "2024-12-27T18:07:18.663Z"
   },
   {
    "duration": 33,
    "start_time": "2024-12-27T18:07:18.667Z"
   },
   {
    "duration": 8,
    "start_time": "2024-12-27T18:07:18.702Z"
   },
   {
    "duration": 26,
    "start_time": "2024-12-27T18:07:18.711Z"
   },
   {
    "duration": 725,
    "start_time": "2024-12-27T18:07:18.739Z"
   },
   {
    "duration": 0,
    "start_time": "2024-12-27T18:07:19.466Z"
   },
   {
    "duration": 0,
    "start_time": "2024-12-27T18:07:19.468Z"
   },
   {
    "duration": 0,
    "start_time": "2024-12-27T18:07:19.469Z"
   },
   {
    "duration": 0,
    "start_time": "2024-12-27T18:07:19.471Z"
   },
   {
    "duration": 0,
    "start_time": "2024-12-27T18:07:19.472Z"
   },
   {
    "duration": 0,
    "start_time": "2024-12-27T18:07:19.474Z"
   },
   {
    "duration": 0,
    "start_time": "2024-12-27T18:07:19.475Z"
   },
   {
    "duration": 1157,
    "start_time": "2024-12-27T18:07:42.627Z"
   },
   {
    "duration": 74,
    "start_time": "2024-12-27T18:07:43.786Z"
   },
   {
    "duration": 3,
    "start_time": "2024-12-27T18:07:43.865Z"
   },
   {
    "duration": 33,
    "start_time": "2024-12-27T18:07:43.869Z"
   },
   {
    "duration": 8,
    "start_time": "2024-12-27T18:07:43.904Z"
   },
   {
    "duration": 49,
    "start_time": "2024-12-27T18:07:43.913Z"
   },
   {
    "duration": 697,
    "start_time": "2024-12-27T18:07:43.964Z"
   },
   {
    "duration": 0,
    "start_time": "2024-12-27T18:07:44.663Z"
   },
   {
    "duration": 0,
    "start_time": "2024-12-27T18:07:44.664Z"
   },
   {
    "duration": 0,
    "start_time": "2024-12-27T18:07:44.665Z"
   },
   {
    "duration": 0,
    "start_time": "2024-12-27T18:07:44.666Z"
   },
   {
    "duration": 0,
    "start_time": "2024-12-27T18:07:44.667Z"
   },
   {
    "duration": 0,
    "start_time": "2024-12-27T18:07:44.668Z"
   },
   {
    "duration": 0,
    "start_time": "2024-12-27T18:07:44.669Z"
   },
   {
    "duration": 21,
    "start_time": "2024-12-27T18:08:47.301Z"
   },
   {
    "duration": 12,
    "start_time": "2024-12-27T18:09:34.122Z"
   },
   {
    "duration": 1112,
    "start_time": "2024-12-27T18:09:39.267Z"
   },
   {
    "duration": 79,
    "start_time": "2024-12-27T18:09:40.381Z"
   },
   {
    "duration": 3,
    "start_time": "2024-12-27T18:09:40.463Z"
   },
   {
    "duration": 30,
    "start_time": "2024-12-27T18:09:40.467Z"
   },
   {
    "duration": 7,
    "start_time": "2024-12-27T18:09:40.498Z"
   },
   {
    "duration": 51,
    "start_time": "2024-12-27T18:09:40.507Z"
   },
   {
    "duration": 13,
    "start_time": "2024-12-27T18:09:40.560Z"
   },
   {
    "duration": 18,
    "start_time": "2024-12-27T18:09:40.575Z"
   },
   {
    "duration": 12,
    "start_time": "2024-12-27T18:09:40.594Z"
   },
   {
    "duration": 53,
    "start_time": "2024-12-27T18:09:40.607Z"
   },
   {
    "duration": 7,
    "start_time": "2024-12-27T18:09:40.661Z"
   },
   {
    "duration": 14,
    "start_time": "2024-12-27T18:09:40.670Z"
   },
   {
    "duration": 280,
    "start_time": "2024-12-27T18:09:40.685Z"
   },
   {
    "duration": 133,
    "start_time": "2024-12-27T18:09:40.968Z"
   },
   {
    "duration": 246,
    "start_time": "2024-12-27T18:13:32.270Z"
   },
   {
    "duration": 152,
    "start_time": "2024-12-27T18:13:39.778Z"
   },
   {
    "duration": 150,
    "start_time": "2024-12-27T18:13:46.237Z"
   },
   {
    "duration": 96,
    "start_time": "2024-12-27T18:13:52.462Z"
   },
   {
    "duration": 182,
    "start_time": "2024-12-27T18:14:01.133Z"
   },
   {
    "duration": 52,
    "start_time": "2024-12-27T19:31:57.999Z"
   },
   {
    "duration": 1329,
    "start_time": "2024-12-27T19:32:10.505Z"
   },
   {
    "duration": 223,
    "start_time": "2024-12-27T19:32:11.836Z"
   },
   {
    "duration": 3,
    "start_time": "2024-12-27T19:32:12.061Z"
   },
   {
    "duration": 42,
    "start_time": "2024-12-27T19:32:12.065Z"
   },
   {
    "duration": 8,
    "start_time": "2024-12-27T19:32:12.109Z"
   },
   {
    "duration": 59,
    "start_time": "2024-12-27T19:32:12.119Z"
   },
   {
    "duration": 11,
    "start_time": "2024-12-27T19:32:12.179Z"
   },
   {
    "duration": 43,
    "start_time": "2024-12-27T19:32:12.192Z"
   },
   {
    "duration": 11,
    "start_time": "2024-12-27T19:32:12.237Z"
   },
   {
    "duration": 7,
    "start_time": "2024-12-27T19:32:12.249Z"
   },
   {
    "duration": 6,
    "start_time": "2024-12-27T19:32:12.258Z"
   },
   {
    "duration": 450,
    "start_time": "2024-12-27T19:32:12.266Z"
   },
   {
    "duration": 0,
    "start_time": "2024-12-27T19:32:12.718Z"
   },
   {
    "duration": 0,
    "start_time": "2024-12-27T19:32:12.719Z"
   },
   {
    "duration": 0,
    "start_time": "2024-12-27T19:32:12.720Z"
   },
   {
    "duration": 343,
    "start_time": "2024-12-27T19:32:39.959Z"
   },
   {
    "duration": 345,
    "start_time": "2024-12-27T19:35:18.167Z"
   },
   {
    "duration": 1058,
    "start_time": "2024-12-27T19:35:26.159Z"
   },
   {
    "duration": 74,
    "start_time": "2024-12-27T19:35:27.224Z"
   },
   {
    "duration": 3,
    "start_time": "2024-12-27T19:35:27.299Z"
   },
   {
    "duration": 66,
    "start_time": "2024-12-27T19:35:27.303Z"
   },
   {
    "duration": 8,
    "start_time": "2024-12-27T19:35:27.371Z"
   },
   {
    "duration": 38,
    "start_time": "2024-12-27T19:35:27.380Z"
   },
   {
    "duration": 522,
    "start_time": "2024-12-27T19:35:27.419Z"
   },
   {
    "duration": 0,
    "start_time": "2024-12-27T19:35:27.942Z"
   },
   {
    "duration": 0,
    "start_time": "2024-12-27T19:35:27.944Z"
   },
   {
    "duration": 0,
    "start_time": "2024-12-27T19:35:27.945Z"
   },
   {
    "duration": 0,
    "start_time": "2024-12-27T19:35:27.946Z"
   },
   {
    "duration": 0,
    "start_time": "2024-12-27T19:35:27.947Z"
   },
   {
    "duration": 0,
    "start_time": "2024-12-27T19:35:27.948Z"
   },
   {
    "duration": 0,
    "start_time": "2024-12-27T19:35:27.949Z"
   },
   {
    "duration": 0,
    "start_time": "2024-12-27T19:35:27.950Z"
   },
   {
    "duration": 82,
    "start_time": "2024-12-27T19:41:00.442Z"
   },
   {
    "duration": 380,
    "start_time": "2024-12-27T19:41:14.731Z"
   },
   {
    "duration": 14,
    "start_time": "2024-12-27T19:41:30.710Z"
   },
   {
    "duration": 1109,
    "start_time": "2024-12-27T19:42:26.705Z"
   },
   {
    "duration": 82,
    "start_time": "2024-12-27T19:42:27.816Z"
   },
   {
    "duration": 4,
    "start_time": "2024-12-27T19:42:27.899Z"
   },
   {
    "duration": 68,
    "start_time": "2024-12-27T19:42:27.904Z"
   },
   {
    "duration": 24,
    "start_time": "2024-12-27T19:42:27.974Z"
   },
   {
    "duration": 46,
    "start_time": "2024-12-27T19:42:28.000Z"
   },
   {
    "duration": 11,
    "start_time": "2024-12-27T19:42:28.047Z"
   },
   {
    "duration": 38,
    "start_time": "2024-12-27T19:42:28.059Z"
   },
   {
    "duration": 13,
    "start_time": "2024-12-27T19:42:28.098Z"
   },
   {
    "duration": 30,
    "start_time": "2024-12-27T19:42:28.113Z"
   },
   {
    "duration": 9,
    "start_time": "2024-12-27T19:42:28.144Z"
   },
   {
    "duration": 422,
    "start_time": "2024-12-27T19:42:28.155Z"
   },
   {
    "duration": 0,
    "start_time": "2024-12-27T19:42:28.578Z"
   },
   {
    "duration": 0,
    "start_time": "2024-12-27T19:42:28.579Z"
   },
   {
    "duration": 0,
    "start_time": "2024-12-27T19:42:28.580Z"
   },
   {
    "duration": 84,
    "start_time": "2024-12-27T19:56:00.583Z"
   },
   {
    "duration": 10,
    "start_time": "2024-12-27T19:56:03.862Z"
   },
   {
    "duration": 11,
    "start_time": "2024-12-27T19:56:29.156Z"
   },
   {
    "duration": 272,
    "start_time": "2024-12-27T19:56:34.600Z"
   },
   {
    "duration": 272,
    "start_time": "2024-12-27T19:58:03.180Z"
   },
   {
    "duration": 1189,
    "start_time": "2024-12-27T19:58:08.001Z"
   },
   {
    "duration": 73,
    "start_time": "2024-12-27T19:58:09.192Z"
   },
   {
    "duration": 3,
    "start_time": "2024-12-27T19:58:09.267Z"
   },
   {
    "duration": 57,
    "start_time": "2024-12-27T19:58:09.272Z"
   },
   {
    "duration": 8,
    "start_time": "2024-12-27T19:58:09.333Z"
   },
   {
    "duration": 32,
    "start_time": "2024-12-27T19:58:09.342Z"
   },
   {
    "duration": 10,
    "start_time": "2024-12-27T19:58:09.376Z"
   },
   {
    "duration": 47,
    "start_time": "2024-12-27T19:58:09.388Z"
   },
   {
    "duration": 12,
    "start_time": "2024-12-27T19:58:09.436Z"
   },
   {
    "duration": 33,
    "start_time": "2024-12-27T19:58:09.451Z"
   },
   {
    "duration": 7,
    "start_time": "2024-12-27T19:58:09.486Z"
   },
   {
    "duration": 459,
    "start_time": "2024-12-27T19:58:09.494Z"
   },
   {
    "duration": 0,
    "start_time": "2024-12-27T19:58:09.954Z"
   },
   {
    "duration": 0,
    "start_time": "2024-12-27T19:58:09.955Z"
   },
   {
    "duration": 0,
    "start_time": "2024-12-27T19:58:09.956Z"
   },
   {
    "duration": 1117,
    "start_time": "2024-12-27T19:58:22.692Z"
   },
   {
    "duration": 74,
    "start_time": "2024-12-27T19:58:23.811Z"
   },
   {
    "duration": 3,
    "start_time": "2024-12-27T19:58:23.887Z"
   },
   {
    "duration": 45,
    "start_time": "2024-12-27T19:58:23.892Z"
   },
   {
    "duration": 8,
    "start_time": "2024-12-27T19:58:23.938Z"
   },
   {
    "duration": 24,
    "start_time": "2024-12-27T19:58:23.947Z"
   },
   {
    "duration": 23,
    "start_time": "2024-12-27T19:58:23.973Z"
   },
   {
    "duration": 41,
    "start_time": "2024-12-27T19:58:23.997Z"
   },
   {
    "duration": 12,
    "start_time": "2024-12-27T19:58:24.039Z"
   },
   {
    "duration": 22,
    "start_time": "2024-12-27T19:58:24.053Z"
   },
   {
    "duration": 19,
    "start_time": "2024-12-27T19:58:24.077Z"
   },
   {
    "duration": 45,
    "start_time": "2024-12-27T19:58:24.097Z"
   },
   {
    "duration": 293,
    "start_time": "2024-12-27T19:58:24.143Z"
   },
   {
    "duration": 237,
    "start_time": "2024-12-27T19:58:24.437Z"
   },
   {
    "duration": 157,
    "start_time": "2024-12-27T19:58:31.096Z"
   },
   {
    "duration": 5,
    "start_time": "2024-12-27T19:59:52.807Z"
   },
   {
    "duration": 4,
    "start_time": "2024-12-27T20:00:18.758Z"
   },
   {
    "duration": 4,
    "start_time": "2024-12-27T20:00:44.878Z"
   },
   {
    "duration": 5,
    "start_time": "2024-12-27T20:00:53.381Z"
   },
   {
    "duration": 281,
    "start_time": "2024-12-27T20:01:18.152Z"
   },
   {
    "duration": 148,
    "start_time": "2024-12-27T20:01:21.756Z"
   },
   {
    "duration": 13,
    "start_time": "2024-12-27T20:05:36.335Z"
   },
   {
    "duration": 256,
    "start_time": "2024-12-27T20:05:42.721Z"
   },
   {
    "duration": 283,
    "start_time": "2024-12-27T20:05:48.202Z"
   },
   {
    "duration": 147,
    "start_time": "2024-12-27T20:05:52.945Z"
   },
   {
    "duration": 1073,
    "start_time": "2024-12-27T20:06:00.434Z"
   },
   {
    "duration": 76,
    "start_time": "2024-12-27T20:06:01.509Z"
   },
   {
    "duration": 4,
    "start_time": "2024-12-27T20:06:01.586Z"
   },
   {
    "duration": 42,
    "start_time": "2024-12-27T20:06:01.591Z"
   },
   {
    "duration": 8,
    "start_time": "2024-12-27T20:06:01.635Z"
   },
   {
    "duration": 33,
    "start_time": "2024-12-27T20:06:01.644Z"
   },
   {
    "duration": 28,
    "start_time": "2024-12-27T20:06:01.678Z"
   },
   {
    "duration": 44,
    "start_time": "2024-12-27T20:06:01.708Z"
   },
   {
    "duration": 20,
    "start_time": "2024-12-27T20:06:01.754Z"
   },
   {
    "duration": 4,
    "start_time": "2024-12-27T20:06:01.775Z"
   },
   {
    "duration": 19,
    "start_time": "2024-12-27T20:06:01.780Z"
   },
   {
    "duration": 38,
    "start_time": "2024-12-27T20:06:01.800Z"
   },
   {
    "duration": 14,
    "start_time": "2024-12-27T20:06:01.840Z"
   },
   {
    "duration": 12,
    "start_time": "2024-12-27T20:06:01.856Z"
   },
   {
    "duration": 276,
    "start_time": "2024-12-27T20:06:01.869Z"
   },
   {
    "duration": 233,
    "start_time": "2024-12-27T20:06:02.147Z"
   },
   {
    "duration": 258,
    "start_time": "2024-12-27T20:06:40.636Z"
   },
   {
    "duration": 261,
    "start_time": "2024-12-27T20:09:23.705Z"
   },
   {
    "duration": 276,
    "start_time": "2024-12-27T21:02:45.977Z"
   },
   {
    "duration": 264,
    "start_time": "2024-12-27T21:03:17.710Z"
   },
   {
    "duration": 79,
    "start_time": "2024-12-27T21:06:07.514Z"
   },
   {
    "duration": 124,
    "start_time": "2024-12-27T21:10:27.034Z"
   },
   {
    "duration": 253,
    "start_time": "2024-12-27T21:11:23.258Z"
   },
   {
    "duration": 261,
    "start_time": "2024-12-27T21:11:37.589Z"
   },
   {
    "duration": 1133,
    "start_time": "2024-12-27T21:13:34.194Z"
   },
   {
    "duration": 80,
    "start_time": "2024-12-27T21:13:35.330Z"
   },
   {
    "duration": 3,
    "start_time": "2024-12-27T21:13:35.415Z"
   },
   {
    "duration": 68,
    "start_time": "2024-12-27T21:13:35.420Z"
   },
   {
    "duration": 7,
    "start_time": "2024-12-27T21:13:35.490Z"
   },
   {
    "duration": 78,
    "start_time": "2024-12-27T21:13:35.498Z"
   },
   {
    "duration": 24,
    "start_time": "2024-12-27T21:13:35.577Z"
   },
   {
    "duration": 36,
    "start_time": "2024-12-27T21:13:35.604Z"
   },
   {
    "duration": 33,
    "start_time": "2024-12-27T21:13:35.643Z"
   },
   {
    "duration": 4,
    "start_time": "2024-12-27T21:13:35.678Z"
   },
   {
    "duration": 13,
    "start_time": "2024-12-27T21:13:35.684Z"
   },
   {
    "duration": 7,
    "start_time": "2024-12-27T21:13:35.698Z"
   },
   {
    "duration": 35,
    "start_time": "2024-12-27T21:13:35.707Z"
   },
   {
    "duration": 49,
    "start_time": "2024-12-27T21:13:35.743Z"
   },
   {
    "duration": 282,
    "start_time": "2024-12-27T21:13:35.793Z"
   },
   {
    "duration": 260,
    "start_time": "2024-12-27T21:13:36.076Z"
   },
   {
    "duration": 260,
    "start_time": "2024-12-27T21:15:37.863Z"
   },
   {
    "duration": 258,
    "start_time": "2024-12-27T21:16:23.056Z"
   },
   {
    "duration": 263,
    "start_time": "2024-12-27T21:16:50.183Z"
   },
   {
    "duration": 1321,
    "start_time": "2024-12-28T10:55:18.440Z"
   },
   {
    "duration": 234,
    "start_time": "2024-12-28T10:55:19.763Z"
   },
   {
    "duration": 3,
    "start_time": "2024-12-28T10:55:19.999Z"
   },
   {
    "duration": 70,
    "start_time": "2024-12-28T10:55:20.004Z"
   },
   {
    "duration": 7,
    "start_time": "2024-12-28T10:55:20.076Z"
   },
   {
    "duration": 34,
    "start_time": "2024-12-28T10:55:20.085Z"
   },
   {
    "duration": 18,
    "start_time": "2024-12-28T10:55:20.121Z"
   },
   {
    "duration": 31,
    "start_time": "2024-12-28T10:55:20.140Z"
   },
   {
    "duration": 42,
    "start_time": "2024-12-28T10:55:20.172Z"
   },
   {
    "duration": 6,
    "start_time": "2024-12-28T10:55:20.216Z"
   },
   {
    "duration": 13,
    "start_time": "2024-12-28T10:55:20.223Z"
   },
   {
    "duration": 9,
    "start_time": "2024-12-28T10:55:20.237Z"
   },
   {
    "duration": 9,
    "start_time": "2024-12-28T10:55:20.247Z"
   },
   {
    "duration": 16,
    "start_time": "2024-12-28T10:55:20.258Z"
   },
   {
    "duration": 317,
    "start_time": "2024-12-28T10:55:20.276Z"
   },
   {
    "duration": 261,
    "start_time": "2024-12-28T10:55:20.595Z"
   },
   {
    "duration": 16,
    "start_time": "2024-12-28T11:18:48.379Z"
   },
   {
    "duration": 16,
    "start_time": "2024-12-28T11:18:55.513Z"
   },
   {
    "duration": 1184,
    "start_time": "2024-12-28T11:19:12.165Z"
   },
   {
    "duration": 75,
    "start_time": "2024-12-28T11:19:13.351Z"
   },
   {
    "duration": 3,
    "start_time": "2024-12-28T11:19:13.428Z"
   },
   {
    "duration": 36,
    "start_time": "2024-12-28T11:19:13.434Z"
   },
   {
    "duration": 8,
    "start_time": "2024-12-28T11:19:13.471Z"
   },
   {
    "duration": 53,
    "start_time": "2024-12-28T11:19:13.481Z"
   },
   {
    "duration": 13,
    "start_time": "2024-12-28T11:19:13.536Z"
   },
   {
    "duration": 23,
    "start_time": "2024-12-28T11:19:13.551Z"
   },
   {
    "duration": 18,
    "start_time": "2024-12-28T11:19:13.575Z"
   },
   {
    "duration": 8,
    "start_time": "2024-12-28T11:19:13.595Z"
   },
   {
    "duration": 8,
    "start_time": "2024-12-28T11:19:13.631Z"
   },
   {
    "duration": 23,
    "start_time": "2024-12-28T11:19:13.640Z"
   },
   {
    "duration": 296,
    "start_time": "2024-12-28T11:19:13.664Z"
   },
   {
    "duration": 261,
    "start_time": "2024-12-28T11:19:13.962Z"
   },
   {
    "duration": 1192,
    "start_time": "2024-12-28T11:20:53.683Z"
   },
   {
    "duration": 77,
    "start_time": "2024-12-28T11:20:54.877Z"
   },
   {
    "duration": 3,
    "start_time": "2024-12-28T11:20:54.955Z"
   },
   {
    "duration": 37,
    "start_time": "2024-12-28T11:20:54.960Z"
   },
   {
    "duration": 9,
    "start_time": "2024-12-28T11:20:54.999Z"
   },
   {
    "duration": 31,
    "start_time": "2024-12-28T11:20:55.010Z"
   },
   {
    "duration": 21,
    "start_time": "2024-12-28T11:20:55.042Z"
   },
   {
    "duration": 49,
    "start_time": "2024-12-28T11:20:55.064Z"
   },
   {
    "duration": 27,
    "start_time": "2024-12-28T11:20:55.115Z"
   },
   {
    "duration": 32,
    "start_time": "2024-12-28T11:20:55.144Z"
   },
   {
    "duration": 13,
    "start_time": "2024-12-28T11:20:55.177Z"
   },
   {
    "duration": 15,
    "start_time": "2024-12-28T11:20:55.192Z"
   },
   {
    "duration": 295,
    "start_time": "2024-12-28T11:20:55.209Z"
   },
   {
    "duration": 258,
    "start_time": "2024-12-28T11:20:55.506Z"
   },
   {
    "duration": 1423,
    "start_time": "2024-12-28T14:01:24.640Z"
   },
   {
    "duration": 242,
    "start_time": "2024-12-28T14:01:26.065Z"
   },
   {
    "duration": 4,
    "start_time": "2024-12-28T14:01:26.308Z"
   },
   {
    "duration": 36,
    "start_time": "2024-12-28T14:01:26.314Z"
   },
   {
    "duration": 9,
    "start_time": "2024-12-28T14:01:26.352Z"
   },
   {
    "duration": 106,
    "start_time": "2024-12-28T14:01:26.363Z"
   },
   {
    "duration": 14,
    "start_time": "2024-12-28T14:01:26.470Z"
   },
   {
    "duration": 27,
    "start_time": "2024-12-28T14:01:26.485Z"
   },
   {
    "duration": 19,
    "start_time": "2024-12-28T14:01:26.514Z"
   },
   {
    "duration": 13,
    "start_time": "2024-12-28T14:01:26.539Z"
   },
   {
    "duration": 23,
    "start_time": "2024-12-28T14:01:26.554Z"
   },
   {
    "duration": 19,
    "start_time": "2024-12-28T14:01:26.579Z"
   },
   {
    "duration": 343,
    "start_time": "2024-12-28T14:01:26.602Z"
   },
   {
    "duration": 270,
    "start_time": "2024-12-28T14:01:26.947Z"
   },
   {
    "duration": 1510,
    "start_time": "2024-12-28T15:30:49.200Z"
   },
   {
    "duration": 244,
    "start_time": "2024-12-28T15:30:50.712Z"
   },
   {
    "duration": 4,
    "start_time": "2024-12-28T15:30:50.959Z"
   },
   {
    "duration": 40,
    "start_time": "2024-12-28T15:30:50.966Z"
   },
   {
    "duration": 7,
    "start_time": "2024-12-28T15:30:51.008Z"
   },
   {
    "duration": 43,
    "start_time": "2024-12-28T15:30:51.017Z"
   },
   {
    "duration": 15,
    "start_time": "2024-12-28T15:30:51.063Z"
   },
   {
    "duration": 38,
    "start_time": "2024-12-28T15:30:51.079Z"
   },
   {
    "duration": 762,
    "start_time": "2024-12-28T15:30:51.119Z"
   },
   {
    "duration": 0,
    "start_time": "2024-12-28T15:30:51.883Z"
   },
   {
    "duration": 0,
    "start_time": "2024-12-28T15:30:51.884Z"
   },
   {
    "duration": 1,
    "start_time": "2024-12-28T15:30:51.886Z"
   },
   {
    "duration": 0,
    "start_time": "2024-12-28T15:30:51.888Z"
   },
   {
    "duration": 0,
    "start_time": "2024-12-28T15:30:51.889Z"
   },
   {
    "duration": 1223,
    "start_time": "2024-12-28T15:34:33.951Z"
   },
   {
    "duration": 82,
    "start_time": "2024-12-28T15:34:35.176Z"
   },
   {
    "duration": 3,
    "start_time": "2024-12-28T15:34:35.260Z"
   },
   {
    "duration": 55,
    "start_time": "2024-12-28T15:34:35.265Z"
   },
   {
    "duration": 9,
    "start_time": "2024-12-28T15:34:35.322Z"
   },
   {
    "duration": 47,
    "start_time": "2024-12-28T15:34:35.335Z"
   },
   {
    "duration": 13,
    "start_time": "2024-12-28T15:34:35.383Z"
   },
   {
    "duration": 30,
    "start_time": "2024-12-28T15:34:35.397Z"
   },
   {
    "duration": 17,
    "start_time": "2024-12-28T15:34:35.428Z"
   },
   {
    "duration": 30,
    "start_time": "2024-12-28T15:34:35.447Z"
   },
   {
    "duration": 10,
    "start_time": "2024-12-28T15:34:35.479Z"
   },
   {
    "duration": 26,
    "start_time": "2024-12-28T15:34:35.491Z"
   },
   {
    "duration": 305,
    "start_time": "2024-12-28T15:34:35.519Z"
   },
   {
    "duration": 285,
    "start_time": "2024-12-28T15:34:35.826Z"
   },
   {
    "duration": 117,
    "start_time": "2024-12-28T16:02:48.721Z"
   },
   {
    "duration": 114,
    "start_time": "2024-12-28T16:03:34.229Z"
   },
   {
    "duration": 243,
    "start_time": "2024-12-28T16:03:48.805Z"
   },
   {
    "duration": 245,
    "start_time": "2024-12-28T16:03:58.545Z"
   },
   {
    "duration": 215,
    "start_time": "2024-12-28T16:04:16.010Z"
   },
   {
    "duration": 288,
    "start_time": "2024-12-28T16:04:38.395Z"
   },
   {
    "duration": 303,
    "start_time": "2024-12-28T16:05:14.444Z"
   },
   {
    "duration": 1709,
    "start_time": "2024-12-28T16:05:21.763Z"
   },
   {
    "duration": 85,
    "start_time": "2024-12-28T16:05:41.618Z"
   },
   {
    "duration": 351,
    "start_time": "2024-12-28T16:05:44.570Z"
   },
   {
    "duration": 332,
    "start_time": "2024-12-28T16:06:12.271Z"
   },
   {
    "duration": 312,
    "start_time": "2024-12-28T16:06:27.840Z"
   },
   {
    "duration": 326,
    "start_time": "2024-12-28T16:07:10.074Z"
   },
   {
    "duration": 1287,
    "start_time": "2024-12-28T16:07:31.753Z"
   },
   {
    "duration": 5,
    "start_time": "2024-12-28T16:07:40.250Z"
   },
   {
    "duration": 334,
    "start_time": "2024-12-28T16:07:57.602Z"
   },
   {
    "duration": 328,
    "start_time": "2024-12-28T16:08:12.126Z"
   },
   {
    "duration": 281,
    "start_time": "2024-12-28T16:08:30.041Z"
   },
   {
    "duration": 303,
    "start_time": "2024-12-28T16:14:55.956Z"
   },
   {
    "duration": 234,
    "start_time": "2024-12-28T16:14:59.846Z"
   },
   {
    "duration": 11,
    "start_time": "2024-12-28T16:29:01.068Z"
   },
   {
    "duration": 11,
    "start_time": "2024-12-28T16:29:16.360Z"
   },
   {
    "duration": 334,
    "start_time": "2024-12-28T16:29:23.355Z"
   },
   {
    "duration": 358,
    "start_time": "2024-12-28T16:29:47.755Z"
   },
   {
    "duration": 373,
    "start_time": "2024-12-28T16:31:37.841Z"
   },
   {
    "duration": 357,
    "start_time": "2024-12-28T16:31:42.238Z"
   },
   {
    "duration": 404,
    "start_time": "2024-12-28T16:32:17.404Z"
   },
   {
    "duration": 324,
    "start_time": "2024-12-28T16:32:46.979Z"
   },
   {
    "duration": 330,
    "start_time": "2024-12-28T16:33:14.184Z"
   },
   {
    "duration": 355,
    "start_time": "2024-12-28T16:33:18.793Z"
   },
   {
    "duration": 334,
    "start_time": "2024-12-28T16:34:20.789Z"
   },
   {
    "duration": 376,
    "start_time": "2024-12-28T16:34:34.395Z"
   },
   {
    "duration": 426,
    "start_time": "2024-12-28T16:38:14.440Z"
   },
   {
    "duration": 306,
    "start_time": "2024-12-28T16:38:32.968Z"
   },
   {
    "duration": 367,
    "start_time": "2024-12-28T16:38:53.820Z"
   },
   {
    "duration": 362,
    "start_time": "2024-12-28T16:39:01.926Z"
   },
   {
    "duration": 376,
    "start_time": "2024-12-28T16:39:06.224Z"
   },
   {
    "duration": 193,
    "start_time": "2024-12-28T17:16:10.429Z"
   },
   {
    "duration": 185,
    "start_time": "2024-12-28T17:16:13.227Z"
   },
   {
    "duration": 224,
    "start_time": "2024-12-28T17:16:22.765Z"
   },
   {
    "duration": 299,
    "start_time": "2024-12-28T17:44:08.543Z"
   },
   {
    "duration": 331,
    "start_time": "2024-12-28T17:44:26.724Z"
   },
   {
    "duration": 242,
    "start_time": "2024-12-28T17:48:36.713Z"
   },
   {
    "duration": 487,
    "start_time": "2024-12-28T17:48:55.511Z"
   },
   {
    "duration": 320,
    "start_time": "2024-12-28T17:49:25.962Z"
   },
   {
    "duration": 221,
    "start_time": "2024-12-28T17:49:52.601Z"
   },
   {
    "duration": 257,
    "start_time": "2024-12-28T17:50:15.028Z"
   },
   {
    "duration": 1234,
    "start_time": "2024-12-28T17:51:38.871Z"
   },
   {
    "duration": 82,
    "start_time": "2024-12-28T17:51:40.107Z"
   },
   {
    "duration": 4,
    "start_time": "2024-12-28T17:51:40.192Z"
   },
   {
    "duration": 40,
    "start_time": "2024-12-28T17:51:40.199Z"
   },
   {
    "duration": 8,
    "start_time": "2024-12-28T17:51:40.241Z"
   },
   {
    "duration": 33,
    "start_time": "2024-12-28T17:51:40.251Z"
   },
   {
    "duration": 44,
    "start_time": "2024-12-28T17:51:40.286Z"
   },
   {
    "duration": 24,
    "start_time": "2024-12-28T17:51:40.332Z"
   },
   {
    "duration": 15,
    "start_time": "2024-12-28T17:51:40.359Z"
   },
   {
    "duration": 9,
    "start_time": "2024-12-28T17:51:40.378Z"
   },
   {
    "duration": 45,
    "start_time": "2024-12-28T17:51:40.389Z"
   },
   {
    "duration": 22,
    "start_time": "2024-12-28T17:51:40.436Z"
   },
   {
    "duration": 6,
    "start_time": "2024-12-28T17:51:40.459Z"
   },
   {
    "duration": 318,
    "start_time": "2024-12-28T17:51:40.467Z"
   },
   {
    "duration": 325,
    "start_time": "2024-12-28T17:51:40.787Z"
   },
   {
    "duration": 232,
    "start_time": "2024-12-28T17:51:41.114Z"
   },
   {
    "duration": 331,
    "start_time": "2024-12-28T17:51:41.348Z"
   },
   {
    "duration": 261,
    "start_time": "2024-12-28T17:51:41.681Z"
   },
   {
    "duration": 0,
    "start_time": "2024-12-28T17:51:41.945Z"
   },
   {
    "duration": 9,
    "start_time": "2024-12-28T22:27:05.800Z"
   },
   {
    "duration": 9,
    "start_time": "2024-12-28T22:28:36.410Z"
   },
   {
    "duration": 14,
    "start_time": "2024-12-28T22:29:12.064Z"
   },
   {
    "duration": 1212,
    "start_time": "2024-12-28T22:29:21.242Z"
   },
   {
    "duration": 76,
    "start_time": "2024-12-28T22:29:22.456Z"
   },
   {
    "duration": 4,
    "start_time": "2024-12-28T22:29:22.533Z"
   },
   {
    "duration": 40,
    "start_time": "2024-12-28T22:29:22.539Z"
   },
   {
    "duration": 8,
    "start_time": "2024-12-28T22:29:22.580Z"
   },
   {
    "duration": 47,
    "start_time": "2024-12-28T22:29:22.589Z"
   },
   {
    "duration": 13,
    "start_time": "2024-12-28T22:29:22.638Z"
   },
   {
    "duration": 29,
    "start_time": "2024-12-28T22:29:22.653Z"
   },
   {
    "duration": 11,
    "start_time": "2024-12-28T22:29:22.683Z"
   },
   {
    "duration": 33,
    "start_time": "2024-12-28T22:29:22.697Z"
   },
   {
    "duration": 8,
    "start_time": "2024-12-28T22:29:22.732Z"
   },
   {
    "duration": 15,
    "start_time": "2024-12-28T22:29:22.741Z"
   },
   {
    "duration": 11,
    "start_time": "2024-12-28T22:29:22.757Z"
   },
   {
    "duration": 290,
    "start_time": "2024-12-28T22:29:22.769Z"
   },
   {
    "duration": 301,
    "start_time": "2024-12-28T22:29:23.061Z"
   },
   {
    "duration": 229,
    "start_time": "2024-12-28T22:29:23.364Z"
   },
   {
    "duration": 342,
    "start_time": "2024-12-28T22:29:23.595Z"
   },
   {
    "duration": 259,
    "start_time": "2024-12-28T22:29:23.939Z"
   },
   {
    "duration": 0,
    "start_time": "2024-12-28T22:29:24.201Z"
   },
   {
    "duration": 0,
    "start_time": "2024-12-28T22:29:24.202Z"
   },
   {
    "duration": 1153,
    "start_time": "2024-12-28T22:30:25.987Z"
   },
   {
    "duration": 75,
    "start_time": "2024-12-28T22:30:27.142Z"
   },
   {
    "duration": 4,
    "start_time": "2024-12-28T22:30:27.218Z"
   },
   {
    "duration": 33,
    "start_time": "2024-12-28T22:30:27.224Z"
   },
   {
    "duration": 8,
    "start_time": "2024-12-28T22:30:27.259Z"
   },
   {
    "duration": 37,
    "start_time": "2024-12-28T22:30:27.268Z"
   },
   {
    "duration": 26,
    "start_time": "2024-12-28T22:30:27.307Z"
   },
   {
    "duration": 20,
    "start_time": "2024-12-28T22:30:27.335Z"
   },
   {
    "duration": 19,
    "start_time": "2024-12-28T22:30:27.357Z"
   },
   {
    "duration": 20,
    "start_time": "2024-12-28T22:30:27.377Z"
   },
   {
    "duration": 11,
    "start_time": "2024-12-28T22:30:27.398Z"
   },
   {
    "duration": 32,
    "start_time": "2024-12-28T22:30:27.410Z"
   },
   {
    "duration": 4,
    "start_time": "2024-12-28T22:30:27.444Z"
   },
   {
    "duration": 298,
    "start_time": "2024-12-28T22:30:27.451Z"
   },
   {
    "duration": 309,
    "start_time": "2024-12-28T22:30:27.750Z"
   },
   {
    "duration": 215,
    "start_time": "2024-12-28T22:30:28.061Z"
   },
   {
    "duration": 313,
    "start_time": "2024-12-28T22:30:28.278Z"
   },
   {
    "duration": 261,
    "start_time": "2024-12-28T22:30:28.593Z"
   },
   {
    "duration": 0,
    "start_time": "2024-12-28T22:30:28.855Z"
   },
   {
    "duration": 0,
    "start_time": "2024-12-28T22:30:28.857Z"
   },
   {
    "duration": 374,
    "start_time": "2024-12-28T22:31:19.023Z"
   },
   {
    "duration": 1200,
    "start_time": "2024-12-28T22:32:11.160Z"
   },
   {
    "duration": 76,
    "start_time": "2024-12-28T22:32:12.362Z"
   },
   {
    "duration": 3,
    "start_time": "2024-12-28T22:32:12.440Z"
   },
   {
    "duration": 31,
    "start_time": "2024-12-28T22:32:12.445Z"
   },
   {
    "duration": 8,
    "start_time": "2024-12-28T22:32:12.478Z"
   },
   {
    "duration": 43,
    "start_time": "2024-12-28T22:32:12.487Z"
   },
   {
    "duration": 13,
    "start_time": "2024-12-28T22:32:12.532Z"
   },
   {
    "duration": 25,
    "start_time": "2024-12-28T22:32:12.547Z"
   },
   {
    "duration": 11,
    "start_time": "2024-12-28T22:32:12.573Z"
   },
   {
    "duration": 10,
    "start_time": "2024-12-28T22:32:12.586Z"
   },
   {
    "duration": 34,
    "start_time": "2024-12-28T22:32:12.597Z"
   },
   {
    "duration": 14,
    "start_time": "2024-12-28T22:32:12.633Z"
   },
   {
    "duration": 4,
    "start_time": "2024-12-28T22:32:12.649Z"
   },
   {
    "duration": 299,
    "start_time": "2024-12-28T22:32:12.655Z"
   },
   {
    "duration": 308,
    "start_time": "2024-12-28T22:32:12.955Z"
   },
   {
    "duration": 240,
    "start_time": "2024-12-28T22:32:13.266Z"
   },
   {
    "duration": 344,
    "start_time": "2024-12-28T22:32:13.508Z"
   },
   {
    "duration": 247,
    "start_time": "2024-12-28T22:32:13.853Z"
   },
   {
    "duration": 380,
    "start_time": "2024-12-28T22:32:14.102Z"
   },
   {
    "duration": 111,
    "start_time": "2024-12-28T22:32:14.483Z"
   },
   {
    "duration": 13,
    "start_time": "2024-12-28T22:33:15.986Z"
   },
   {
    "duration": 12,
    "start_time": "2024-12-28T22:33:30.548Z"
   },
   {
    "duration": 14,
    "start_time": "2024-12-28T22:33:41.301Z"
   },
   {
    "duration": 1301,
    "start_time": "2024-12-28T22:34:01.650Z"
   },
   {
    "duration": 117,
    "start_time": "2024-12-28T22:34:16.595Z"
   },
   {
    "duration": 118,
    "start_time": "2024-12-28T22:34:22.113Z"
   },
   {
    "duration": 232,
    "start_time": "2024-12-28T22:35:48.723Z"
   },
   {
    "duration": 152,
    "start_time": "2024-12-28T22:36:58.425Z"
   },
   {
    "duration": 1370,
    "start_time": "2024-12-29T15:31:09.987Z"
   },
   {
    "duration": 231,
    "start_time": "2024-12-29T15:31:11.359Z"
   },
   {
    "duration": 3,
    "start_time": "2024-12-29T15:31:11.592Z"
   },
   {
    "duration": 40,
    "start_time": "2024-12-29T15:31:11.596Z"
   },
   {
    "duration": 9,
    "start_time": "2024-12-29T15:31:11.638Z"
   },
   {
    "duration": 46,
    "start_time": "2024-12-29T15:31:11.648Z"
   },
   {
    "duration": 12,
    "start_time": "2024-12-29T15:31:11.696Z"
   },
   {
    "duration": 25,
    "start_time": "2024-12-29T15:31:11.710Z"
   },
   {
    "duration": 16,
    "start_time": "2024-12-29T15:31:11.736Z"
   },
   {
    "duration": 9,
    "start_time": "2024-12-29T15:31:11.754Z"
   },
   {
    "duration": 9,
    "start_time": "2024-12-29T15:31:11.765Z"
   },
   {
    "duration": 13,
    "start_time": "2024-12-29T15:31:11.775Z"
   },
   {
    "duration": 5,
    "start_time": "2024-12-29T15:31:11.790Z"
   },
   {
    "duration": 333,
    "start_time": "2024-12-29T15:31:11.797Z"
   },
   {
    "duration": 305,
    "start_time": "2024-12-29T15:31:12.131Z"
   },
   {
    "duration": 224,
    "start_time": "2024-12-29T15:31:12.437Z"
   },
   {
    "duration": 381,
    "start_time": "2024-12-29T15:31:12.663Z"
   },
   {
    "duration": 254,
    "start_time": "2024-12-29T15:31:13.047Z"
   },
   {
    "duration": 390,
    "start_time": "2024-12-29T15:31:13.303Z"
   },
   {
    "duration": 158,
    "start_time": "2024-12-29T15:31:13.695Z"
   },
   {
    "duration": 4,
    "start_time": "2024-12-29T15:54:46.369Z"
   },
   {
    "duration": 158,
    "start_time": "2024-12-29T16:15:03.973Z"
   },
   {
    "duration": 308,
    "start_time": "2024-12-29T16:19:28.482Z"
   },
   {
    "duration": 149,
    "start_time": "2024-12-29T16:19:45.643Z"
   },
   {
    "duration": 155,
    "start_time": "2024-12-29T16:20:36.764Z"
   },
   {
    "duration": 160,
    "start_time": "2024-12-29T16:23:09.072Z"
   },
   {
    "duration": 5,
    "start_time": "2024-12-29T16:24:02.980Z"
   },
   {
    "duration": 5,
    "start_time": "2024-12-29T16:26:21.487Z"
   },
   {
    "duration": 70,
    "start_time": "2024-12-29T16:37:54.872Z"
   },
   {
    "duration": 58,
    "start_time": "2024-12-29T16:38:04.318Z"
   },
   {
    "duration": 68,
    "start_time": "2024-12-29T16:38:08.601Z"
   },
   {
    "duration": 1410,
    "start_time": "2024-12-29T17:36:33.623Z"
   },
   {
    "duration": 142,
    "start_time": "2024-12-29T17:37:01.753Z"
   },
   {
    "duration": 5,
    "start_time": "2024-12-29T17:38:48.504Z"
   },
   {
    "duration": 153,
    "start_time": "2024-12-29T17:40:07.394Z"
   },
   {
    "duration": 1260,
    "start_time": "2024-12-29T17:40:56.611Z"
   },
   {
    "duration": 77,
    "start_time": "2024-12-29T17:40:57.874Z"
   },
   {
    "duration": 3,
    "start_time": "2024-12-29T17:40:57.952Z"
   },
   {
    "duration": 30,
    "start_time": "2024-12-29T17:40:57.957Z"
   },
   {
    "duration": 7,
    "start_time": "2024-12-29T17:40:57.989Z"
   },
   {
    "duration": 36,
    "start_time": "2024-12-29T17:40:57.998Z"
   },
   {
    "duration": 12,
    "start_time": "2024-12-29T17:40:58.036Z"
   },
   {
    "duration": 25,
    "start_time": "2024-12-29T17:40:58.049Z"
   },
   {
    "duration": 11,
    "start_time": "2024-12-29T17:40:58.075Z"
   },
   {
    "duration": 15,
    "start_time": "2024-12-29T17:40:58.088Z"
   },
   {
    "duration": 13,
    "start_time": "2024-12-29T17:40:58.129Z"
   },
   {
    "duration": 16,
    "start_time": "2024-12-29T17:40:58.145Z"
   },
   {
    "duration": 8,
    "start_time": "2024-12-29T17:40:58.163Z"
   },
   {
    "duration": 325,
    "start_time": "2024-12-29T17:40:58.172Z"
   },
   {
    "duration": 319,
    "start_time": "2024-12-29T17:40:58.499Z"
   },
   {
    "duration": 231,
    "start_time": "2024-12-29T17:40:58.819Z"
   },
   {
    "duration": 333,
    "start_time": "2024-12-29T17:40:59.051Z"
   },
   {
    "duration": 255,
    "start_time": "2024-12-29T17:40:59.385Z"
   },
   {
    "duration": 350,
    "start_time": "2024-12-29T17:40:59.641Z"
   },
   {
    "duration": 165,
    "start_time": "2024-12-29T17:40:59.992Z"
   },
   {
    "duration": 5,
    "start_time": "2024-12-29T17:41:00.158Z"
   },
   {
    "duration": 242,
    "start_time": "2024-12-29T17:41:00.164Z"
   },
   {
    "duration": 4,
    "start_time": "2024-12-29T17:41:00.407Z"
   },
   {
    "duration": 326,
    "start_time": "2024-12-29T17:41:00.413Z"
   },
   {
    "duration": 11,
    "start_time": "2024-12-29T17:43:04.623Z"
   },
   {
    "duration": 4,
    "start_time": "2024-12-29T17:43:21.782Z"
   },
   {
    "duration": 1174,
    "start_time": "2024-12-29T17:43:26.674Z"
   },
   {
    "duration": 76,
    "start_time": "2024-12-29T17:43:27.850Z"
   },
   {
    "duration": 3,
    "start_time": "2024-12-29T17:43:27.928Z"
   },
   {
    "duration": 35,
    "start_time": "2024-12-29T17:43:27.933Z"
   },
   {
    "duration": 8,
    "start_time": "2024-12-29T17:43:27.970Z"
   },
   {
    "duration": 32,
    "start_time": "2024-12-29T17:43:27.980Z"
   },
   {
    "duration": 27,
    "start_time": "2024-12-29T17:43:28.013Z"
   },
   {
    "duration": 23,
    "start_time": "2024-12-29T17:43:28.042Z"
   },
   {
    "duration": 15,
    "start_time": "2024-12-29T17:43:28.067Z"
   },
   {
    "duration": 17,
    "start_time": "2024-12-29T17:43:28.085Z"
   },
   {
    "duration": 26,
    "start_time": "2024-12-29T17:43:28.104Z"
   },
   {
    "duration": 12,
    "start_time": "2024-12-29T17:43:28.132Z"
   },
   {
    "duration": 9,
    "start_time": "2024-12-29T17:43:28.146Z"
   },
   {
    "duration": 288,
    "start_time": "2024-12-29T17:43:28.158Z"
   },
   {
    "duration": 311,
    "start_time": "2024-12-29T17:43:28.447Z"
   },
   {
    "duration": 256,
    "start_time": "2024-12-29T17:43:28.761Z"
   },
   {
    "duration": 415,
    "start_time": "2024-12-29T17:43:29.018Z"
   },
   {
    "duration": 244,
    "start_time": "2024-12-29T17:43:29.435Z"
   },
   {
    "duration": 338,
    "start_time": "2024-12-29T17:43:29.680Z"
   },
   {
    "duration": 159,
    "start_time": "2024-12-29T17:43:30.019Z"
   },
   {
    "duration": 5,
    "start_time": "2024-12-29T17:43:30.180Z"
   },
   {
    "duration": 205,
    "start_time": "2024-12-29T17:43:30.186Z"
   },
   {
    "duration": 5,
    "start_time": "2024-12-29T17:43:30.392Z"
   },
   {
    "duration": 310,
    "start_time": "2024-12-29T17:43:30.398Z"
   },
   {
    "duration": 6,
    "start_time": "2024-12-29T17:44:39.640Z"
   },
   {
    "duration": 136,
    "start_time": "2024-12-29T17:44:44.548Z"
   },
   {
    "duration": 1175,
    "start_time": "2024-12-29T17:45:17.374Z"
   },
   {
    "duration": 78,
    "start_time": "2024-12-29T17:45:18.551Z"
   },
   {
    "duration": 4,
    "start_time": "2024-12-29T17:45:18.630Z"
   },
   {
    "duration": 61,
    "start_time": "2024-12-29T17:45:18.635Z"
   },
   {
    "duration": 7,
    "start_time": "2024-12-29T17:45:18.698Z"
   },
   {
    "duration": 25,
    "start_time": "2024-12-29T17:45:18.707Z"
   },
   {
    "duration": 12,
    "start_time": "2024-12-29T17:45:18.734Z"
   },
   {
    "duration": 25,
    "start_time": "2024-12-29T17:45:18.748Z"
   },
   {
    "duration": 13,
    "start_time": "2024-12-29T17:45:18.775Z"
   },
   {
    "duration": 9,
    "start_time": "2024-12-29T17:45:18.790Z"
   },
   {
    "duration": 9,
    "start_time": "2024-12-29T17:45:18.831Z"
   },
   {
    "duration": 16,
    "start_time": "2024-12-29T17:45:18.841Z"
   },
   {
    "duration": 6,
    "start_time": "2024-12-29T17:45:18.859Z"
   },
   {
    "duration": 303,
    "start_time": "2024-12-29T17:45:18.869Z"
   },
   {
    "duration": 307,
    "start_time": "2024-12-29T17:45:19.174Z"
   },
   {
    "duration": 225,
    "start_time": "2024-12-29T17:45:19.483Z"
   },
   {
    "duration": 338,
    "start_time": "2024-12-29T17:45:19.710Z"
   },
   {
    "duration": 250,
    "start_time": "2024-12-29T17:45:20.049Z"
   },
   {
    "duration": 365,
    "start_time": "2024-12-29T17:45:20.301Z"
   },
   {
    "duration": 163,
    "start_time": "2024-12-29T17:45:20.668Z"
   },
   {
    "duration": 4,
    "start_time": "2024-12-29T17:45:20.833Z"
   },
   {
    "duration": 179,
    "start_time": "2024-12-29T17:45:20.839Z"
   },
   {
    "duration": 4,
    "start_time": "2024-12-29T17:45:21.019Z"
   },
   {
    "duration": 240,
    "start_time": "2024-12-29T17:45:21.029Z"
   },
   {
    "duration": 152,
    "start_time": "2024-12-29T17:45:30.025Z"
   },
   {
    "duration": 242,
    "start_time": "2024-12-29T17:46:24.239Z"
   },
   {
    "duration": 153,
    "start_time": "2024-12-29T17:46:54.388Z"
   },
   {
    "duration": 157,
    "start_time": "2024-12-29T18:54:13.803Z"
   },
   {
    "duration": 156,
    "start_time": "2024-12-29T18:54:27.265Z"
   },
   {
    "duration": 159,
    "start_time": "2024-12-29T18:54:33.873Z"
   },
   {
    "duration": 157,
    "start_time": "2024-12-29T18:56:10.954Z"
   },
   {
    "duration": 16,
    "start_time": "2024-12-29T18:57:20.462Z"
   },
   {
    "duration": 217,
    "start_time": "2024-12-29T18:57:33.142Z"
   },
   {
    "duration": 1462,
    "start_time": "2025-01-03T11:43:16.316Z"
   },
   {
    "duration": 239,
    "start_time": "2025-01-03T11:43:17.780Z"
   },
   {
    "duration": 4,
    "start_time": "2025-01-03T11:43:18.021Z"
   },
   {
    "duration": 40,
    "start_time": "2025-01-03T11:43:18.027Z"
   },
   {
    "duration": 7,
    "start_time": "2025-01-03T11:43:18.070Z"
   },
   {
    "duration": 52,
    "start_time": "2025-01-03T11:43:18.078Z"
   },
   {
    "duration": 12,
    "start_time": "2025-01-03T11:43:18.132Z"
   },
   {
    "duration": 23,
    "start_time": "2025-01-03T11:43:18.146Z"
   },
   {
    "duration": 11,
    "start_time": "2025-01-03T11:43:18.170Z"
   },
   {
    "duration": 13,
    "start_time": "2025-01-03T11:43:18.182Z"
   },
   {
    "duration": 9,
    "start_time": "2025-01-03T11:43:18.197Z"
   },
   {
    "duration": 47,
    "start_time": "2025-01-03T11:43:18.208Z"
   },
   {
    "duration": 326,
    "start_time": "2025-01-03T11:43:18.257Z"
   },
   {
    "duration": 327,
    "start_time": "2025-01-03T11:43:18.587Z"
   },
   {
    "duration": 238,
    "start_time": "2025-01-03T11:43:18.916Z"
   },
   {
    "duration": 356,
    "start_time": "2025-01-03T11:43:19.156Z"
   },
   {
    "duration": 278,
    "start_time": "2025-01-03T11:43:19.513Z"
   },
   {
    "duration": 351,
    "start_time": "2025-01-03T11:43:19.793Z"
   },
   {
    "duration": 175,
    "start_time": "2025-01-03T11:43:20.146Z"
   },
   {
    "duration": 4,
    "start_time": "2025-01-03T11:43:20.323Z"
   },
   {
    "duration": 184,
    "start_time": "2025-01-03T11:43:20.336Z"
   },
   {
    "duration": 4,
    "start_time": "2025-01-03T11:43:20.522Z"
   },
   {
    "duration": 204,
    "start_time": "2025-01-03T11:43:20.528Z"
   },
   {
    "duration": 0,
    "start_time": "2025-01-03T11:43:20.734Z"
   },
   {
    "duration": 1155,
    "start_time": "2025-01-03T11:43:53.506Z"
   },
   {
    "duration": 78,
    "start_time": "2025-01-03T11:43:54.663Z"
   },
   {
    "duration": 4,
    "start_time": "2025-01-03T11:43:54.743Z"
   },
   {
    "duration": 34,
    "start_time": "2025-01-03T11:43:54.748Z"
   },
   {
    "duration": 8,
    "start_time": "2025-01-03T11:43:54.785Z"
   },
   {
    "duration": 60,
    "start_time": "2025-01-03T11:43:54.795Z"
   },
   {
    "duration": 13,
    "start_time": "2025-01-03T11:43:54.857Z"
   },
   {
    "duration": 21,
    "start_time": "2025-01-03T11:43:54.872Z"
   },
   {
    "duration": 11,
    "start_time": "2025-01-03T11:43:54.895Z"
   },
   {
    "duration": 9,
    "start_time": "2025-01-03T11:43:54.938Z"
   },
   {
    "duration": 8,
    "start_time": "2025-01-03T11:43:54.948Z"
   },
   {
    "duration": 20,
    "start_time": "2025-01-03T11:43:54.957Z"
   },
   {
    "duration": 295,
    "start_time": "2025-01-03T11:43:54.978Z"
   },
   {
    "duration": 313,
    "start_time": "2025-01-03T11:43:55.276Z"
   },
   {
    "duration": 224,
    "start_time": "2025-01-03T11:43:55.591Z"
   },
   {
    "duration": 337,
    "start_time": "2025-01-03T11:43:55.817Z"
   },
   {
    "duration": 265,
    "start_time": "2025-01-03T11:43:56.156Z"
   },
   {
    "duration": 368,
    "start_time": "2025-01-03T11:43:56.423Z"
   },
   {
    "duration": 167,
    "start_time": "2025-01-03T11:43:56.793Z"
   },
   {
    "duration": 4,
    "start_time": "2025-01-03T11:43:56.962Z"
   },
   {
    "duration": 204,
    "start_time": "2025-01-03T11:43:56.967Z"
   },
   {
    "duration": 4,
    "start_time": "2025-01-03T11:43:57.172Z"
   },
   {
    "duration": 204,
    "start_time": "2025-01-03T11:43:57.178Z"
   },
   {
    "duration": 0,
    "start_time": "2025-01-03T11:43:57.384Z"
   },
   {
    "duration": 30,
    "start_time": "2025-01-03T11:44:55.647Z"
   },
   {
    "duration": 28,
    "start_time": "2025-01-03T11:45:52.008Z"
   },
   {
    "duration": 29,
    "start_time": "2025-01-03T11:48:06.648Z"
   },
   {
    "duration": 1172,
    "start_time": "2025-01-03T11:49:34.495Z"
   },
   {
    "duration": 80,
    "start_time": "2025-01-03T11:49:35.669Z"
   },
   {
    "duration": 4,
    "start_time": "2025-01-03T11:49:35.751Z"
   },
   {
    "duration": 66,
    "start_time": "2025-01-03T11:49:35.757Z"
   },
   {
    "duration": 8,
    "start_time": "2025-01-03T11:49:35.826Z"
   },
   {
    "duration": 95,
    "start_time": "2025-01-03T11:49:35.836Z"
   },
   {
    "duration": 13,
    "start_time": "2025-01-03T11:49:35.933Z"
   },
   {
    "duration": 53,
    "start_time": "2025-01-03T11:49:35.948Z"
   },
   {
    "duration": 19,
    "start_time": "2025-01-03T11:49:36.003Z"
   },
   {
    "duration": 21,
    "start_time": "2025-01-03T11:49:36.023Z"
   },
   {
    "duration": 32,
    "start_time": "2025-01-03T11:49:36.046Z"
   },
   {
    "duration": 53,
    "start_time": "2025-01-03T11:49:36.079Z"
   },
   {
    "duration": 303,
    "start_time": "2025-01-03T11:49:36.134Z"
   },
   {
    "duration": 324,
    "start_time": "2025-01-03T11:49:36.440Z"
   },
   {
    "duration": 244,
    "start_time": "2025-01-03T11:49:36.766Z"
   },
   {
    "duration": 340,
    "start_time": "2025-01-03T11:49:37.011Z"
   },
   {
    "duration": 250,
    "start_time": "2025-01-03T11:49:37.353Z"
   },
   {
    "duration": 373,
    "start_time": "2025-01-03T11:49:37.605Z"
   },
   {
    "duration": 152,
    "start_time": "2025-01-03T11:49:37.980Z"
   },
   {
    "duration": 4,
    "start_time": "2025-01-03T11:49:38.137Z"
   },
   {
    "duration": 204,
    "start_time": "2025-01-03T11:49:38.143Z"
   },
   {
    "duration": 4,
    "start_time": "2025-01-03T11:49:38.349Z"
   },
   {
    "duration": 217,
    "start_time": "2025-01-03T11:49:38.354Z"
   },
   {
    "duration": 0,
    "start_time": "2025-01-03T11:49:38.573Z"
   },
   {
    "duration": 12,
    "start_time": "2025-01-03T11:51:49.725Z"
   },
   {
    "duration": 11,
    "start_time": "2025-01-03T11:51:54.296Z"
   },
   {
    "duration": 24,
    "start_time": "2025-01-03T11:53:00.114Z"
   },
   {
    "duration": 54,
    "start_time": "2025-01-03T11:54:39.342Z"
   },
   {
    "duration": 66,
    "start_time": "2025-01-03T11:55:35.462Z"
   },
   {
    "duration": 98,
    "start_time": "2025-01-03T11:55:51.481Z"
   },
   {
    "duration": 1549,
    "start_time": "2025-01-03T11:56:30.270Z"
   },
   {
    "duration": 217,
    "start_time": "2025-01-03T11:57:03.271Z"
   },
   {
    "duration": 228,
    "start_time": "2025-01-03T11:57:07.341Z"
   },
   {
    "duration": 1609,
    "start_time": "2025-01-03T11:59:55.151Z"
   },
   {
    "duration": 229,
    "start_time": "2025-01-03T12:00:15.355Z"
   },
   {
    "duration": 228,
    "start_time": "2025-01-03T12:02:44.704Z"
   },
   {
    "duration": 274,
    "start_time": "2025-01-03T12:02:53.335Z"
   },
   {
    "duration": 117,
    "start_time": "2025-01-03T12:53:52.029Z"
   },
   {
    "duration": 1235,
    "start_time": "2025-01-03T13:12:55.743Z"
   },
   {
    "duration": 78,
    "start_time": "2025-01-03T13:12:56.980Z"
   },
   {
    "duration": 3,
    "start_time": "2025-01-03T13:12:57.059Z"
   },
   {
    "duration": 36,
    "start_time": "2025-01-03T13:12:57.064Z"
   },
   {
    "duration": 8,
    "start_time": "2025-01-03T13:12:57.102Z"
   },
   {
    "duration": 33,
    "start_time": "2025-01-03T13:12:57.111Z"
   },
   {
    "duration": 16,
    "start_time": "2025-01-03T13:12:57.146Z"
   },
   {
    "duration": 24,
    "start_time": "2025-01-03T13:12:57.164Z"
   },
   {
    "duration": 10,
    "start_time": "2025-01-03T13:12:57.190Z"
   },
   {
    "duration": 40,
    "start_time": "2025-01-03T13:12:57.202Z"
   },
   {
    "duration": 8,
    "start_time": "2025-01-03T13:12:57.244Z"
   },
   {
    "duration": 19,
    "start_time": "2025-01-03T13:12:57.254Z"
   },
   {
    "duration": 293,
    "start_time": "2025-01-03T13:12:57.275Z"
   },
   {
    "duration": 318,
    "start_time": "2025-01-03T13:12:57.571Z"
   },
   {
    "duration": 222,
    "start_time": "2025-01-03T13:12:57.891Z"
   },
   {
    "duration": 365,
    "start_time": "2025-01-03T13:12:58.115Z"
   },
   {
    "duration": 255,
    "start_time": "2025-01-03T13:12:58.482Z"
   },
   {
    "duration": 359,
    "start_time": "2025-01-03T13:12:58.739Z"
   },
   {
    "duration": 153,
    "start_time": "2025-01-03T13:12:59.100Z"
   },
   {
    "duration": 4,
    "start_time": "2025-01-03T13:12:59.255Z"
   },
   {
    "duration": 178,
    "start_time": "2025-01-03T13:12:59.261Z"
   },
   {
    "duration": 5,
    "start_time": "2025-01-03T13:12:59.440Z"
   },
   {
    "duration": 239,
    "start_time": "2025-01-03T13:12:59.446Z"
   },
   {
    "duration": 92,
    "start_time": "2025-01-03T13:12:59.686Z"
   },
   {
    "duration": 0,
    "start_time": "2025-01-03T13:12:59.780Z"
   },
   {
    "duration": 212,
    "start_time": "2025-01-03T13:13:34.211Z"
   },
   {
    "duration": 160,
    "start_time": "2025-01-03T13:18:48.913Z"
   },
   {
    "duration": 206,
    "start_time": "2025-01-03T13:19:07.076Z"
   },
   {
    "duration": 343,
    "start_time": "2025-01-03T13:19:24.992Z"
   },
   {
    "duration": 208,
    "start_time": "2025-01-03T13:22:51.049Z"
   },
   {
    "duration": 210,
    "start_time": "2025-01-03T13:23:05.221Z"
   },
   {
    "duration": 205,
    "start_time": "2025-01-03T13:23:09.329Z"
   },
   {
    "duration": 221,
    "start_time": "2025-01-03T13:25:08.853Z"
   },
   {
    "duration": 211,
    "start_time": "2025-01-03T13:25:27.633Z"
   },
   {
    "duration": 224,
    "start_time": "2025-01-03T13:25:33.231Z"
   },
   {
    "duration": 82,
    "start_time": "2025-01-03T19:01:27.802Z"
   },
   {
    "duration": 78,
    "start_time": "2025-01-03T19:02:10.492Z"
   },
   {
    "duration": 96,
    "start_time": "2025-01-03T19:02:25.928Z"
   },
   {
    "duration": 173,
    "start_time": "2025-01-03T19:02:55.351Z"
   },
   {
    "duration": 150,
    "start_time": "2025-01-03T19:05:13.052Z"
   },
   {
    "duration": 165,
    "start_time": "2025-01-03T19:05:22.387Z"
   },
   {
    "duration": 128,
    "start_time": "2025-01-03T19:33:14.954Z"
   },
   {
    "duration": 134,
    "start_time": "2025-01-03T19:33:32.362Z"
   },
   {
    "duration": 231,
    "start_time": "2025-01-03T19:47:26.430Z"
   },
   {
    "duration": 209,
    "start_time": "2025-01-03T19:54:23.678Z"
   },
   {
    "duration": 217,
    "start_time": "2025-01-03T19:56:30.445Z"
   },
   {
    "duration": 142,
    "start_time": "2025-01-03T20:06:44.519Z"
   },
   {
    "duration": 146,
    "start_time": "2025-01-03T20:08:28.620Z"
   },
   {
    "duration": 38,
    "start_time": "2025-01-03T20:14:01.022Z"
   },
   {
    "duration": 26,
    "start_time": "2025-01-03T20:14:14.869Z"
   },
   {
    "duration": 292,
    "start_time": "2025-01-03T20:16:22.746Z"
   },
   {
    "duration": 86,
    "start_time": "2025-01-03T20:16:34.483Z"
   },
   {
    "duration": 118,
    "start_time": "2025-01-03T20:17:01.571Z"
   },
   {
    "duration": 24,
    "start_time": "2025-01-03T20:17:14.435Z"
   },
   {
    "duration": 25,
    "start_time": "2025-01-03T20:17:23.033Z"
   },
   {
    "duration": 31,
    "start_time": "2025-01-03T20:17:49.519Z"
   },
   {
    "duration": 24,
    "start_time": "2025-01-03T20:18:07.639Z"
   },
   {
    "duration": 25,
    "start_time": "2025-01-03T20:18:19.687Z"
   },
   {
    "duration": 26,
    "start_time": "2025-01-03T20:18:38.167Z"
   },
   {
    "duration": 26,
    "start_time": "2025-01-03T20:30:21.821Z"
   },
   {
    "duration": 14,
    "start_time": "2025-01-03T20:49:56.514Z"
   },
   {
    "duration": 4,
    "start_time": "2025-01-03T20:52:18.527Z"
   },
   {
    "duration": 11,
    "start_time": "2025-01-03T20:52:22.361Z"
   },
   {
    "duration": 10,
    "start_time": "2025-01-03T20:53:06.760Z"
   },
   {
    "duration": 11,
    "start_time": "2025-01-03T20:53:28.133Z"
   },
   {
    "duration": 25,
    "start_time": "2025-01-03T20:53:42.224Z"
   },
   {
    "duration": 9,
    "start_time": "2025-01-03T21:33:10.468Z"
   },
   {
    "duration": 9,
    "start_time": "2025-01-03T21:35:11.098Z"
   },
   {
    "duration": 5,
    "start_time": "2025-01-03T21:42:57.610Z"
   },
   {
    "duration": 12,
    "start_time": "2025-01-03T21:43:08.430Z"
   },
   {
    "duration": 12,
    "start_time": "2025-01-03T21:43:37.692Z"
   },
   {
    "duration": 1460,
    "start_time": "2025-01-03T21:45:06.287Z"
   },
   {
    "duration": 16,
    "start_time": "2025-01-03T21:45:38.482Z"
   },
   {
    "duration": 11,
    "start_time": "2025-01-03T21:46:09.868Z"
   },
   {
    "duration": 34,
    "start_time": "2025-01-03T21:48:08.541Z"
   },
   {
    "duration": 10,
    "start_time": "2025-01-03T21:55:56.125Z"
   },
   {
    "duration": 7,
    "start_time": "2025-01-03T21:56:14.151Z"
   },
   {
    "duration": 15,
    "start_time": "2025-01-03T21:56:21.197Z"
   },
   {
    "duration": 17,
    "start_time": "2025-01-03T21:58:09.748Z"
   },
   {
    "duration": 8,
    "start_time": "2025-01-03T21:59:01.934Z"
   },
   {
    "duration": 11,
    "start_time": "2025-01-03T21:59:07.413Z"
   },
   {
    "duration": 10,
    "start_time": "2025-01-03T21:59:13.435Z"
   },
   {
    "duration": 25,
    "start_time": "2025-01-03T22:06:30.388Z"
   },
   {
    "duration": 26,
    "start_time": "2025-01-03T22:06:49.451Z"
   },
   {
    "duration": 1352,
    "start_time": "2025-01-04T11:08:04.583Z"
   },
   {
    "duration": 237,
    "start_time": "2025-01-04T11:08:05.937Z"
   },
   {
    "duration": 4,
    "start_time": "2025-01-04T11:08:06.176Z"
   },
   {
    "duration": 33,
    "start_time": "2025-01-04T11:08:06.183Z"
   },
   {
    "duration": 16,
    "start_time": "2025-01-04T11:08:06.219Z"
   },
   {
    "duration": 26,
    "start_time": "2025-01-04T11:08:06.237Z"
   },
   {
    "duration": 28,
    "start_time": "2025-01-04T11:08:06.264Z"
   },
   {
    "duration": 59,
    "start_time": "2025-01-04T11:08:06.294Z"
   },
   {
    "duration": 11,
    "start_time": "2025-01-04T11:08:06.355Z"
   },
   {
    "duration": 17,
    "start_time": "2025-01-04T11:08:06.368Z"
   },
   {
    "duration": 24,
    "start_time": "2025-01-04T11:08:06.387Z"
   },
   {
    "duration": 18,
    "start_time": "2025-01-04T11:08:06.413Z"
   },
   {
    "duration": 304,
    "start_time": "2025-01-04T11:08:06.432Z"
   },
   {
    "duration": 308,
    "start_time": "2025-01-04T11:08:06.740Z"
   },
   {
    "duration": 212,
    "start_time": "2025-01-04T11:08:07.049Z"
   },
   {
    "duration": 349,
    "start_time": "2025-01-04T11:08:07.263Z"
   },
   {
    "duration": 252,
    "start_time": "2025-01-04T11:08:07.622Z"
   },
   {
    "duration": 364,
    "start_time": "2025-01-04T11:08:07.876Z"
   },
   {
    "duration": 180,
    "start_time": "2025-01-04T11:08:08.241Z"
   },
   {
    "duration": 4,
    "start_time": "2025-01-04T11:08:08.423Z"
   },
   {
    "duration": 171,
    "start_time": "2025-01-04T11:08:08.429Z"
   },
   {
    "duration": 5,
    "start_time": "2025-01-04T11:08:08.602Z"
   },
   {
    "duration": 302,
    "start_time": "2025-01-04T11:08:08.608Z"
   },
   {
    "duration": 154,
    "start_time": "2025-01-04T11:08:08.912Z"
   },
   {
    "duration": 25,
    "start_time": "2025-01-04T11:08:09.068Z"
   },
   {
    "duration": 28,
    "start_time": "2025-01-04T11:08:09.095Z"
   },
   {
    "duration": 9,
    "start_time": "2025-01-04T11:08:09.125Z"
   },
   {
    "duration": 10,
    "start_time": "2025-01-04T11:08:09.136Z"
   },
   {
    "duration": 50,
    "start_time": "2025-01-04T11:08:09.147Z"
   },
   {
    "duration": 6,
    "start_time": "2025-01-04T11:08:09.199Z"
   },
   {
    "duration": 7,
    "start_time": "2025-01-04T11:08:09.222Z"
   },
   {
    "duration": 6,
    "start_time": "2025-01-04T11:38:38.902Z"
   },
   {
    "duration": 5,
    "start_time": "2025-01-04T11:38:47.399Z"
   },
   {
    "duration": 6,
    "start_time": "2025-01-04T11:42:43.827Z"
   },
   {
    "duration": 228,
    "start_time": "2025-01-04T11:48:58.704Z"
   },
   {
    "duration": 233,
    "start_time": "2025-01-04T11:50:53.582Z"
   },
   {
    "duration": 423,
    "start_time": "2025-01-04T11:55:42.130Z"
   },
   {
    "duration": 295,
    "start_time": "2025-01-04T11:56:54.119Z"
   },
   {
    "duration": 368,
    "start_time": "2025-01-04T12:01:11.046Z"
   },
   {
    "duration": 12,
    "start_time": "2025-01-04T12:09:55.114Z"
   },
   {
    "duration": 185,
    "start_time": "2025-01-04T12:10:30.189Z"
   },
   {
    "duration": 1267,
    "start_time": "2025-01-04T12:47:21.231Z"
   },
   {
    "duration": 80,
    "start_time": "2025-01-04T12:47:22.500Z"
   },
   {
    "duration": 4,
    "start_time": "2025-01-04T12:47:22.582Z"
   },
   {
    "duration": 60,
    "start_time": "2025-01-04T12:47:22.587Z"
   },
   {
    "duration": 42,
    "start_time": "2025-01-04T12:47:22.648Z"
   },
   {
    "duration": 57,
    "start_time": "2025-01-04T12:47:22.692Z"
   },
   {
    "duration": 23,
    "start_time": "2025-01-04T12:47:22.750Z"
   },
   {
    "duration": 18,
    "start_time": "2025-01-04T12:47:22.775Z"
   },
   {
    "duration": 49,
    "start_time": "2025-01-04T12:47:22.794Z"
   },
   {
    "duration": 44,
    "start_time": "2025-01-04T12:47:22.846Z"
   },
   {
    "duration": 80,
    "start_time": "2025-01-04T12:47:22.892Z"
   },
   {
    "duration": 47,
    "start_time": "2025-01-04T12:47:22.974Z"
   },
   {
    "duration": 42,
    "start_time": "2025-01-04T12:47:23.023Z"
   },
   {
    "duration": 99,
    "start_time": "2025-01-04T12:47:23.067Z"
   },
   {
    "duration": 328,
    "start_time": "2025-01-04T12:47:23.168Z"
   },
   {
    "duration": 344,
    "start_time": "2025-01-04T12:47:23.498Z"
   },
   {
    "duration": 257,
    "start_time": "2025-01-04T12:47:23.845Z"
   },
   {
    "duration": 380,
    "start_time": "2025-01-04T12:47:24.104Z"
   },
   {
    "duration": 331,
    "start_time": "2025-01-04T12:47:24.486Z"
   },
   {
    "duration": 430,
    "start_time": "2025-01-04T12:47:24.818Z"
   },
   {
    "duration": 189,
    "start_time": "2025-01-04T12:47:25.250Z"
   },
   {
    "duration": 5,
    "start_time": "2025-01-04T12:47:25.441Z"
   },
   {
    "duration": 247,
    "start_time": "2025-01-04T12:47:25.448Z"
   },
   {
    "duration": 4,
    "start_time": "2025-01-04T12:47:25.697Z"
   },
   {
    "duration": 310,
    "start_time": "2025-01-04T12:47:25.703Z"
   },
   {
    "duration": 192,
    "start_time": "2025-01-04T12:47:26.015Z"
   },
   {
    "duration": 35,
    "start_time": "2025-01-04T12:47:26.209Z"
   },
   {
    "duration": 19,
    "start_time": "2025-01-04T12:47:26.249Z"
   },
   {
    "duration": 39,
    "start_time": "2025-01-04T12:47:26.270Z"
   },
   {
    "duration": 29,
    "start_time": "2025-01-04T12:47:26.311Z"
   },
   {
    "duration": 64,
    "start_time": "2025-01-04T12:47:26.342Z"
   },
   {
    "duration": 27,
    "start_time": "2025-01-04T12:47:26.408Z"
   },
   {
    "duration": 24,
    "start_time": "2025-01-04T12:47:26.437Z"
   },
   {
    "duration": 1161,
    "start_time": "2025-01-04T13:07:30.972Z"
   },
   {
    "duration": 82,
    "start_time": "2025-01-04T13:07:32.135Z"
   },
   {
    "duration": 4,
    "start_time": "2025-01-04T13:07:32.220Z"
   },
   {
    "duration": 65,
    "start_time": "2025-01-04T13:07:32.227Z"
   },
   {
    "duration": 8,
    "start_time": "2025-01-04T13:07:32.294Z"
   },
   {
    "duration": 40,
    "start_time": "2025-01-04T13:07:32.304Z"
   },
   {
    "duration": 17,
    "start_time": "2025-01-04T13:07:32.346Z"
   },
   {
    "duration": 6,
    "start_time": "2025-01-04T13:07:32.365Z"
   },
   {
    "duration": 53,
    "start_time": "2025-01-04T13:07:32.373Z"
   },
   {
    "duration": 19,
    "start_time": "2025-01-04T13:07:32.430Z"
   },
   {
    "duration": 22,
    "start_time": "2025-01-04T13:07:32.451Z"
   },
   {
    "duration": 30,
    "start_time": "2025-01-04T13:07:32.475Z"
   },
   {
    "duration": 14,
    "start_time": "2025-01-04T13:07:32.506Z"
   },
   {
    "duration": 31,
    "start_time": "2025-01-04T13:07:32.522Z"
   },
   {
    "duration": 308,
    "start_time": "2025-01-04T13:07:32.555Z"
   },
   {
    "duration": 333,
    "start_time": "2025-01-04T13:07:32.865Z"
   },
   {
    "duration": 244,
    "start_time": "2025-01-04T13:07:33.199Z"
   },
   {
    "duration": 334,
    "start_time": "2025-01-04T13:07:33.446Z"
   },
   {
    "duration": 308,
    "start_time": "2025-01-04T13:07:33.782Z"
   },
   {
    "duration": 402,
    "start_time": "2025-01-04T13:07:34.092Z"
   },
   {
    "duration": 190,
    "start_time": "2025-01-04T13:07:34.495Z"
   },
   {
    "duration": 5,
    "start_time": "2025-01-04T13:07:34.686Z"
   },
   {
    "duration": 210,
    "start_time": "2025-01-04T13:07:34.692Z"
   },
   {
    "duration": 4,
    "start_time": "2025-01-04T13:07:34.904Z"
   },
   {
    "duration": 338,
    "start_time": "2025-01-04T13:07:34.921Z"
   },
   {
    "duration": 167,
    "start_time": "2025-01-04T13:07:35.261Z"
   },
   {
    "duration": 27,
    "start_time": "2025-01-04T13:07:35.430Z"
   },
   {
    "duration": 13,
    "start_time": "2025-01-04T13:07:35.460Z"
   },
   {
    "duration": 19,
    "start_time": "2025-01-04T13:07:35.474Z"
   },
   {
    "duration": 31,
    "start_time": "2025-01-04T13:07:35.496Z"
   },
   {
    "duration": 40,
    "start_time": "2025-01-04T13:07:35.529Z"
   },
   {
    "duration": 7,
    "start_time": "2025-01-04T13:07:35.571Z"
   },
   {
    "duration": 22,
    "start_time": "2025-01-04T13:07:35.579Z"
   },
   {
    "duration": 75,
    "start_time": "2025-01-04T20:23:11.491Z"
   },
   {
    "duration": 1430,
    "start_time": "2025-01-04T20:23:30.459Z"
   },
   {
    "duration": 230,
    "start_time": "2025-01-04T20:23:31.899Z"
   },
   {
    "duration": 5,
    "start_time": "2025-01-04T20:23:32.135Z"
   },
   {
    "duration": 30,
    "start_time": "2025-01-04T20:23:32.142Z"
   },
   {
    "duration": 7,
    "start_time": "2025-01-04T20:23:32.174Z"
   },
   {
    "duration": 56,
    "start_time": "2025-01-04T20:23:32.182Z"
   },
   {
    "duration": 12,
    "start_time": "2025-01-04T20:23:32.240Z"
   },
   {
    "duration": 4,
    "start_time": "2025-01-04T20:23:32.253Z"
   },
   {
    "duration": 54,
    "start_time": "2025-01-04T20:23:32.259Z"
   },
   {
    "duration": 21,
    "start_time": "2025-01-04T20:23:32.316Z"
   },
   {
    "duration": 5,
    "start_time": "2025-01-04T20:23:32.340Z"
   },
   {
    "duration": 14,
    "start_time": "2025-01-04T20:23:32.346Z"
   },
   {
    "duration": 19,
    "start_time": "2025-01-04T20:23:32.361Z"
   },
   {
    "duration": 26,
    "start_time": "2025-01-04T20:23:32.381Z"
   },
   {
    "duration": 374,
    "start_time": "2025-01-04T20:23:32.409Z"
   },
   {
    "duration": 384,
    "start_time": "2025-01-04T20:23:32.784Z"
   },
   {
    "duration": 296,
    "start_time": "2025-01-04T20:23:33.169Z"
   },
   {
    "duration": 414,
    "start_time": "2025-01-04T20:23:33.467Z"
   },
   {
    "duration": 292,
    "start_time": "2025-01-04T20:23:33.883Z"
   },
   {
    "duration": 475,
    "start_time": "2025-01-04T20:23:34.176Z"
   },
   {
    "duration": 201,
    "start_time": "2025-01-04T20:23:34.653Z"
   },
   {
    "duration": 4,
    "start_time": "2025-01-04T20:23:34.855Z"
   },
   {
    "duration": 219,
    "start_time": "2025-01-04T20:23:34.862Z"
   },
   {
    "duration": 19,
    "start_time": "2025-01-04T20:23:35.083Z"
   },
   {
    "duration": 19,
    "start_time": "2025-01-04T20:23:35.104Z"
   },
   {
    "duration": 318,
    "start_time": "2025-01-04T20:23:35.124Z"
   },
   {
    "duration": 199,
    "start_time": "2025-01-04T20:23:35.444Z"
   },
   {
    "duration": 35,
    "start_time": "2025-01-04T20:23:35.648Z"
   },
   {
    "duration": 26,
    "start_time": "2025-01-04T20:23:35.685Z"
   },
   {
    "duration": 40,
    "start_time": "2025-01-04T20:23:35.718Z"
   },
   {
    "duration": 42,
    "start_time": "2025-01-04T20:23:35.760Z"
   },
   {
    "duration": 59,
    "start_time": "2025-01-04T20:23:35.804Z"
   },
   {
    "duration": 46,
    "start_time": "2025-01-04T20:23:35.864Z"
   },
   {
    "duration": 25,
    "start_time": "2025-01-04T20:23:35.912Z"
   },
   {
    "duration": 5,
    "start_time": "2025-01-04T20:24:13.723Z"
   },
   {
    "duration": 1183,
    "start_time": "2025-01-04T20:29:00.174Z"
   },
   {
    "duration": 75,
    "start_time": "2025-01-04T20:29:01.358Z"
   },
   {
    "duration": 3,
    "start_time": "2025-01-04T20:29:01.435Z"
   },
   {
    "duration": 77,
    "start_time": "2025-01-04T20:29:01.439Z"
   },
   {
    "duration": 8,
    "start_time": "2025-01-04T20:29:01.519Z"
   },
   {
    "duration": 26,
    "start_time": "2025-01-04T20:29:01.528Z"
   },
   {
    "duration": 12,
    "start_time": "2025-01-04T20:29:01.556Z"
   },
   {
    "duration": 17,
    "start_time": "2025-01-04T20:29:01.594Z"
   },
   {
    "duration": 68,
    "start_time": "2025-01-04T20:29:01.613Z"
   },
   {
    "duration": 28,
    "start_time": "2025-01-04T20:29:01.683Z"
   },
   {
    "duration": 9,
    "start_time": "2025-01-04T20:29:01.713Z"
   },
   {
    "duration": 13,
    "start_time": "2025-01-04T20:29:01.724Z"
   },
   {
    "duration": 21,
    "start_time": "2025-01-04T20:29:01.738Z"
   },
   {
    "duration": 13,
    "start_time": "2025-01-04T20:29:01.761Z"
   },
   {
    "duration": 291,
    "start_time": "2025-01-04T20:29:01.775Z"
   },
   {
    "duration": 344,
    "start_time": "2025-01-04T20:29:02.068Z"
   },
   {
    "duration": 244,
    "start_time": "2025-01-04T20:29:02.414Z"
   },
   {
    "duration": 342,
    "start_time": "2025-01-04T20:29:02.659Z"
   },
   {
    "duration": 295,
    "start_time": "2025-01-04T20:29:03.003Z"
   },
   {
    "duration": 406,
    "start_time": "2025-01-04T20:29:03.301Z"
   },
   {
    "duration": 202,
    "start_time": "2025-01-04T20:29:03.708Z"
   },
   {
    "duration": 4,
    "start_time": "2025-01-04T20:29:03.912Z"
   },
   {
    "duration": 14,
    "start_time": "2025-01-04T20:29:03.918Z"
   },
   {
    "duration": 193,
    "start_time": "2025-01-04T20:29:03.934Z"
   },
   {
    "duration": 4,
    "start_time": "2025-01-04T20:29:04.130Z"
   },
   {
    "duration": 6,
    "start_time": "2025-01-04T20:29:04.135Z"
   },
   {
    "duration": 295,
    "start_time": "2025-01-04T20:29:04.142Z"
   },
   {
    "duration": 149,
    "start_time": "2025-01-04T20:29:04.439Z"
   },
   {
    "duration": 35,
    "start_time": "2025-01-04T20:29:04.590Z"
   },
   {
    "duration": 11,
    "start_time": "2025-01-04T20:29:04.626Z"
   },
   {
    "duration": 127,
    "start_time": "2025-01-04T20:29:04.638Z"
   },
   {
    "duration": 0,
    "start_time": "2025-01-04T20:29:04.767Z"
   },
   {
    "duration": 0,
    "start_time": "2025-01-04T20:29:04.769Z"
   },
   {
    "duration": 0,
    "start_time": "2025-01-04T20:29:04.770Z"
   },
   {
    "duration": 0,
    "start_time": "2025-01-04T20:29:04.771Z"
   },
   {
    "duration": 9,
    "start_time": "2025-01-04T20:34:23.857Z"
   },
   {
    "duration": 9,
    "start_time": "2025-01-04T20:34:38.517Z"
   },
   {
    "duration": 4,
    "start_time": "2025-01-04T20:34:42.180Z"
   },
   {
    "duration": 4,
    "start_time": "2025-01-04T20:35:20.780Z"
   },
   {
    "duration": 1112,
    "start_time": "2025-01-04T20:35:25.913Z"
   },
   {
    "duration": 87,
    "start_time": "2025-01-04T20:35:27.027Z"
   },
   {
    "duration": 3,
    "start_time": "2025-01-04T20:35:27.116Z"
   },
   {
    "duration": 30,
    "start_time": "2025-01-04T20:35:27.121Z"
   },
   {
    "duration": 7,
    "start_time": "2025-01-04T20:35:27.153Z"
   },
   {
    "duration": 36,
    "start_time": "2025-01-04T20:35:27.161Z"
   },
   {
    "duration": 20,
    "start_time": "2025-01-04T20:35:27.198Z"
   },
   {
    "duration": 5,
    "start_time": "2025-01-04T20:35:27.220Z"
   },
   {
    "duration": 20,
    "start_time": "2025-01-04T20:35:27.226Z"
   },
   {
    "duration": 13,
    "start_time": "2025-01-04T20:35:27.248Z"
   },
   {
    "duration": 30,
    "start_time": "2025-01-04T20:35:27.263Z"
   },
   {
    "duration": 14,
    "start_time": "2025-01-04T20:35:27.295Z"
   },
   {
    "duration": 8,
    "start_time": "2025-01-04T20:35:27.314Z"
   },
   {
    "duration": 13,
    "start_time": "2025-01-04T20:35:27.325Z"
   },
   {
    "duration": 309,
    "start_time": "2025-01-04T20:35:27.339Z"
   },
   {
    "duration": 328,
    "start_time": "2025-01-04T20:35:27.650Z"
   },
   {
    "duration": 248,
    "start_time": "2025-01-04T20:35:27.979Z"
   },
   {
    "duration": 320,
    "start_time": "2025-01-04T20:35:28.229Z"
   },
   {
    "duration": 288,
    "start_time": "2025-01-04T20:35:28.551Z"
   },
   {
    "duration": 377,
    "start_time": "2025-01-04T20:35:28.840Z"
   },
   {
    "duration": 184,
    "start_time": "2025-01-04T20:35:29.218Z"
   },
   {
    "duration": 7,
    "start_time": "2025-01-04T20:35:29.407Z"
   },
   {
    "duration": 95,
    "start_time": "2025-01-04T20:35:29.416Z"
   },
   {
    "duration": 200,
    "start_time": "2025-01-04T20:35:29.512Z"
   },
   {
    "duration": 5,
    "start_time": "2025-01-04T20:35:29.713Z"
   },
   {
    "duration": 9,
    "start_time": "2025-01-04T20:35:29.719Z"
   },
   {
    "duration": 288,
    "start_time": "2025-01-04T20:35:29.729Z"
   },
   {
    "duration": 158,
    "start_time": "2025-01-04T20:35:30.019Z"
   },
   {
    "duration": 32,
    "start_time": "2025-01-04T20:35:30.179Z"
   },
   {
    "duration": 43,
    "start_time": "2025-01-04T20:35:30.212Z"
   },
   {
    "duration": 9,
    "start_time": "2025-01-04T20:35:30.257Z"
   },
   {
    "duration": 45,
    "start_time": "2025-01-04T20:35:30.267Z"
   },
   {
    "duration": 34,
    "start_time": "2025-01-04T20:35:30.313Z"
   },
   {
    "duration": 7,
    "start_time": "2025-01-04T20:35:30.348Z"
   },
   {
    "duration": 21,
    "start_time": "2025-01-04T20:35:30.356Z"
   },
   {
    "duration": 9,
    "start_time": "2025-01-04T20:52:13.824Z"
   },
   {
    "duration": 9,
    "start_time": "2025-01-04T20:52:25.398Z"
   },
   {
    "duration": 11,
    "start_time": "2025-01-04T20:52:36.328Z"
   },
   {
    "duration": 8,
    "start_time": "2025-01-04T20:53:06.230Z"
   },
   {
    "duration": 8,
    "start_time": "2025-01-04T20:53:22.823Z"
   },
   {
    "duration": 1205,
    "start_time": "2025-01-04T20:58:09.027Z"
   },
   {
    "duration": 76,
    "start_time": "2025-01-04T20:58:10.235Z"
   },
   {
    "duration": 4,
    "start_time": "2025-01-04T20:58:10.312Z"
   },
   {
    "duration": 33,
    "start_time": "2025-01-04T20:58:10.317Z"
   },
   {
    "duration": 7,
    "start_time": "2025-01-04T20:58:10.352Z"
   },
   {
    "duration": 38,
    "start_time": "2025-01-04T20:58:10.360Z"
   },
   {
    "duration": 17,
    "start_time": "2025-01-04T20:58:10.406Z"
   },
   {
    "duration": 7,
    "start_time": "2025-01-04T20:58:10.424Z"
   },
   {
    "duration": 26,
    "start_time": "2025-01-04T20:58:10.432Z"
   },
   {
    "duration": 10,
    "start_time": "2025-01-04T20:58:10.459Z"
   },
   {
    "duration": 34,
    "start_time": "2025-01-04T20:58:10.470Z"
   },
   {
    "duration": 10,
    "start_time": "2025-01-04T20:58:10.506Z"
   },
   {
    "duration": 11,
    "start_time": "2025-01-04T20:58:10.517Z"
   },
   {
    "duration": 13,
    "start_time": "2025-01-04T20:58:10.531Z"
   },
   {
    "duration": 311,
    "start_time": "2025-01-04T20:58:10.545Z"
   },
   {
    "duration": 353,
    "start_time": "2025-01-04T20:58:10.857Z"
   },
   {
    "duration": 246,
    "start_time": "2025-01-04T20:58:11.212Z"
   },
   {
    "duration": 317,
    "start_time": "2025-01-04T20:58:11.460Z"
   },
   {
    "duration": 324,
    "start_time": "2025-01-04T20:58:11.793Z"
   },
   {
    "duration": 354,
    "start_time": "2025-01-04T20:58:12.123Z"
   },
   {
    "duration": 184,
    "start_time": "2025-01-04T20:58:12.479Z"
   },
   {
    "duration": 4,
    "start_time": "2025-01-04T20:58:12.665Z"
   },
   {
    "duration": 23,
    "start_time": "2025-01-04T20:58:12.670Z"
   },
   {
    "duration": 189,
    "start_time": "2025-01-04T20:58:12.695Z"
   },
   {
    "duration": 21,
    "start_time": "2025-01-04T20:58:12.885Z"
   },
   {
    "duration": 10,
    "start_time": "2025-01-04T20:58:12.908Z"
   },
   {
    "duration": 300,
    "start_time": "2025-01-04T20:58:12.919Z"
   },
   {
    "duration": 161,
    "start_time": "2025-01-04T20:58:13.221Z"
   },
   {
    "duration": 36,
    "start_time": "2025-01-04T20:58:13.383Z"
   },
   {
    "duration": 12,
    "start_time": "2025-01-04T20:58:13.420Z"
   },
   {
    "duration": 8,
    "start_time": "2025-01-04T20:58:13.434Z"
   },
   {
    "duration": 7,
    "start_time": "2025-01-04T20:58:13.443Z"
   },
   {
    "duration": 49,
    "start_time": "2025-01-04T20:58:13.451Z"
   },
   {
    "duration": 11,
    "start_time": "2025-01-04T20:58:13.507Z"
   },
   {
    "duration": 64,
    "start_time": "2025-01-04T20:58:13.520Z"
   },
   {
    "duration": 1177,
    "start_time": "2025-03-01T19:34:04.445Z"
   },
   {
    "duration": 68,
    "start_time": "2025-03-01T19:34:05.624Z"
   },
   {
    "duration": 4,
    "start_time": "2025-03-01T19:34:05.694Z"
   },
   {
    "duration": 62,
    "start_time": "2025-03-01T19:34:05.699Z"
   },
   {
    "duration": 8,
    "start_time": "2025-03-01T19:34:05.764Z"
   },
   {
    "duration": 29,
    "start_time": "2025-03-01T19:34:05.774Z"
   },
   {
    "duration": 38,
    "start_time": "2025-03-01T19:34:05.804Z"
   },
   {
    "duration": 52,
    "start_time": "2025-03-01T19:34:05.844Z"
   },
   {
    "duration": 51,
    "start_time": "2025-03-01T19:34:05.898Z"
   },
   {
    "duration": 27,
    "start_time": "2025-03-01T19:34:05.950Z"
   },
   {
    "duration": 118,
    "start_time": "2025-03-01T19:34:05.978Z"
   },
   {
    "duration": 12,
    "start_time": "2025-03-01T19:34:06.098Z"
   },
   {
    "duration": 8,
    "start_time": "2025-03-01T19:34:06.111Z"
   },
   {
    "duration": 52,
    "start_time": "2025-03-01T19:34:06.122Z"
   },
   {
    "duration": 278,
    "start_time": "2025-03-01T19:34:06.175Z"
   },
   {
    "duration": 325,
    "start_time": "2025-03-01T19:34:06.454Z"
   },
   {
    "duration": 242,
    "start_time": "2025-03-01T19:34:06.781Z"
   },
   {
    "duration": 362,
    "start_time": "2025-03-01T19:34:07.024Z"
   },
   {
    "duration": 291,
    "start_time": "2025-03-01T19:34:07.387Z"
   },
   {
    "duration": 366,
    "start_time": "2025-03-01T19:34:07.680Z"
   },
   {
    "duration": 169,
    "start_time": "2025-03-01T19:34:08.047Z"
   },
   {
    "duration": 11,
    "start_time": "2025-03-01T19:34:08.218Z"
   },
   {
    "duration": 40,
    "start_time": "2025-03-01T19:34:08.238Z"
   },
   {
    "duration": 170,
    "start_time": "2025-03-01T19:34:08.280Z"
   },
   {
    "duration": 5,
    "start_time": "2025-03-01T19:34:08.452Z"
   },
   {
    "duration": 5,
    "start_time": "2025-03-01T19:34:08.459Z"
   },
   {
    "duration": 310,
    "start_time": "2025-03-01T19:34:08.465Z"
   },
   {
    "duration": 134,
    "start_time": "2025-03-01T19:34:08.777Z"
   },
   {
    "duration": 37,
    "start_time": "2025-03-01T19:34:08.912Z"
   },
   {
    "duration": 12,
    "start_time": "2025-03-01T19:34:08.951Z"
   },
   {
    "duration": 9,
    "start_time": "2025-03-01T19:34:08.965Z"
   },
   {
    "duration": 16,
    "start_time": "2025-03-01T19:34:08.975Z"
   },
   {
    "duration": 52,
    "start_time": "2025-03-01T19:34:08.993Z"
   },
   {
    "duration": 6,
    "start_time": "2025-03-01T19:34:09.047Z"
   },
   {
    "duration": 10,
    "start_time": "2025-03-01T19:34:09.055Z"
   }
  ],
  "kernelspec": {
   "display_name": "Python 3 (ipykernel)",
   "language": "python",
   "name": "python3"
  },
  "language_info": {
   "codemirror_mode": {
    "name": "ipython",
    "version": 3
   },
   "file_extension": ".py",
   "mimetype": "text/x-python",
   "name": "python",
   "nbconvert_exporter": "python",
   "pygments_lexer": "ipython3",
   "version": "3.12.7"
  },
  "toc": {
   "base_numbering": 1,
   "nav_menu": {},
   "number_sections": true,
   "sideBar": true,
   "skip_h1_title": true,
   "title_cell": "Table of Contents",
   "title_sidebar": "Contents",
   "toc_cell": false,
   "toc_position": {},
   "toc_section_display": true,
   "toc_window_display": true
  }
 },
 "nbformat": 4,
 "nbformat_minor": 4
}
